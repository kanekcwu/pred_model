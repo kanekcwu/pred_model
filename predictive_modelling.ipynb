{
 "cells": [
  {
   "cell_type": "markdown",
   "metadata": {},
   "source": [
    "### Quick and dirty frieght modelling"
   ]
  },
  {
   "cell_type": "code",
   "execution_count": 2,
   "metadata": {},
   "outputs": [],
   "source": [
    "# import packages\n",
    "import pandas as pd\n",
    "import numpy as np\n",
    "from sklearn import ensemble, model_selection, multioutput, metrics\n",
    "from sklearn.externals import joblib"
   ]
  },
  {
   "cell_type": "code",
   "execution_count": 4,
   "metadata": {},
   "outputs": [],
   "source": [
    "# import data\n",
    "freight_fn = '../Data/Inbound_Orders_and_Live_Order_Book_for_Hackathon.xlsx'\n",
    "freight_xls = pd.ExcelFile(freight_fn)\n",
    "\n",
    "fn_hist = 'Historical Inbound Orders'\n",
    "fn_live = 'Live Order Book'\n",
    "hist_df = freight_xls.parse(fn_hist)\n",
    "live_df = freight_xls.parse(fn_live)"
   ]
  },
  {
   "cell_type": "code",
   "execution_count": 9,
   "metadata": {},
   "outputs": [],
   "source": [
    "# pivot table helper function\n",
    "def get_pivot_table(in_table, val_col, index_col, cols_col, fn):\n",
    "    ptable = pd.pivot_table(in_table,values=val_col, columns=cols_col, index=index_col, aggfunc=fn)\n",
    "    df_table = pd.DataFrame()\n",
    "    for i in index_col:\n",
    "        df_table[i] = list(ptable.index.get_level_values(i))\n",
    "    for i in list(ptable.columns.get_values()):\n",
    "        df_table[i] = list(ptable[i])\n",
    "    return df_table"
   ]
  },
  {
   "cell_type": "code",
   "execution_count": 5,
   "metadata": {},
   "outputs": [
    {
     "data": {
      "text/html": [
       "<div>\n",
       "<style scoped>\n",
       "    .dataframe tbody tr th:only-of-type {\n",
       "        vertical-align: middle;\n",
       "    }\n",
       "\n",
       "    .dataframe tbody tr th {\n",
       "        vertical-align: top;\n",
       "    }\n",
       "\n",
       "    .dataframe thead th {\n",
       "        text-align: right;\n",
       "    }\n",
       "</style>\n",
       "<table border=\"1\" class=\"dataframe\">\n",
       "  <thead>\n",
       "    <tr style=\"text-align: right;\">\n",
       "      <th></th>\n",
       "      <th>Load Port</th>\n",
       "      <th>Load Port LAT</th>\n",
       "      <th>Load Port LON</th>\n",
       "      <th>Index</th>\n",
       "      <th>Eqp Type (Abrv) in Shipment</th>\n",
       "      <th>Eqp Number</th>\n",
       "      <th>ETD</th>\n",
       "      <th>Dsch Port</th>\n",
       "      <th>Dsch Port LAT</th>\n",
       "      <th>Dsch Port LON</th>\n",
       "      <th>...</th>\n",
       "      <th>PO No.</th>\n",
       "      <th>Item Class</th>\n",
       "      <th>Shipped Qty</th>\n",
       "      <th>PkgCode</th>\n",
       "      <th>Shipped Dtl Qty</th>\n",
       "      <th>PkgCode.1</th>\n",
       "      <th>Item Shipped Wgt</th>\n",
       "      <th>Unit of Measure.2</th>\n",
       "      <th>Item Shipped Msr</th>\n",
       "      <th>Unit of Measure.3</th>\n",
       "    </tr>\n",
       "  </thead>\n",
       "  <tbody>\n",
       "    <tr>\n",
       "      <th>0</th>\n",
       "      <td>BANGLADESH - CHITTAGONG</td>\n",
       "      <td>22.356851</td>\n",
       "      <td>91.783182</td>\n",
       "      <td>1</td>\n",
       "      <td>20FT</td>\n",
       "      <td>1.0</td>\n",
       "      <td>2016-03-13</td>\n",
       "      <td>UK - SOUTHAMPTON</td>\n",
       "      <td>50.9097</td>\n",
       "      <td>-1.404351</td>\n",
       "      <td>...</td>\n",
       "      <td>90001.0</td>\n",
       "      <td>S-Shorts</td>\n",
       "      <td>31.0</td>\n",
       "      <td>CTN</td>\n",
       "      <td>700.0</td>\n",
       "      <td>PCS</td>\n",
       "      <td>362.90</td>\n",
       "      <td>KG</td>\n",
       "      <td>1.86</td>\n",
       "      <td>CBM</td>\n",
       "    </tr>\n",
       "    <tr>\n",
       "      <th>1</th>\n",
       "      <td>BANGLADESH - CHITTAGONG</td>\n",
       "      <td>22.356851</td>\n",
       "      <td>91.783182</td>\n",
       "      <td>2</td>\n",
       "      <td>20FT</td>\n",
       "      <td>1.0</td>\n",
       "      <td>2016-03-13</td>\n",
       "      <td>UK - SOUTHAMPTON</td>\n",
       "      <td>50.9097</td>\n",
       "      <td>-1.404351</td>\n",
       "      <td>...</td>\n",
       "      <td>90002.0</td>\n",
       "      <td>S-Shorts</td>\n",
       "      <td>15.0</td>\n",
       "      <td>CTN</td>\n",
       "      <td>360.0</td>\n",
       "      <td>PCS</td>\n",
       "      <td>169.50</td>\n",
       "      <td>KG</td>\n",
       "      <td>0.90</td>\n",
       "      <td>CBM</td>\n",
       "    </tr>\n",
       "    <tr>\n",
       "      <th>2</th>\n",
       "      <td>BANGLADESH - CHITTAGONG</td>\n",
       "      <td>22.356851</td>\n",
       "      <td>91.783182</td>\n",
       "      <td>3</td>\n",
       "      <td>20FT</td>\n",
       "      <td>1.0</td>\n",
       "      <td>2016-03-13</td>\n",
       "      <td>UK - SOUTHAMPTON</td>\n",
       "      <td>50.9097</td>\n",
       "      <td>-1.404351</td>\n",
       "      <td>...</td>\n",
       "      <td>90003.0</td>\n",
       "      <td>S-Shorts</td>\n",
       "      <td>23.0</td>\n",
       "      <td>CTN</td>\n",
       "      <td>500.0</td>\n",
       "      <td>PCS</td>\n",
       "      <td>227.40</td>\n",
       "      <td>KG</td>\n",
       "      <td>1.38</td>\n",
       "      <td>CBM</td>\n",
       "    </tr>\n",
       "    <tr>\n",
       "      <th>3</th>\n",
       "      <td>BANGLADESH - CHITTAGONG</td>\n",
       "      <td>22.356851</td>\n",
       "      <td>91.783182</td>\n",
       "      <td>4</td>\n",
       "      <td>20FT</td>\n",
       "      <td>1.0</td>\n",
       "      <td>2016-03-13</td>\n",
       "      <td>UK - SOUTHAMPTON</td>\n",
       "      <td>50.9097</td>\n",
       "      <td>-1.404351</td>\n",
       "      <td>...</td>\n",
       "      <td>90004.0</td>\n",
       "      <td>S-Shorts</td>\n",
       "      <td>17.0</td>\n",
       "      <td>CTN</td>\n",
       "      <td>366.0</td>\n",
       "      <td>PCS</td>\n",
       "      <td>181.85</td>\n",
       "      <td>KG</td>\n",
       "      <td>1.02</td>\n",
       "      <td>CBM</td>\n",
       "    </tr>\n",
       "    <tr>\n",
       "      <th>4</th>\n",
       "      <td>BANGLADESH - CHITTAGONG</td>\n",
       "      <td>22.356851</td>\n",
       "      <td>91.783182</td>\n",
       "      <td>5</td>\n",
       "      <td>20FT</td>\n",
       "      <td>1.0</td>\n",
       "      <td>2016-03-13</td>\n",
       "      <td>UK - SOUTHAMPTON</td>\n",
       "      <td>50.9097</td>\n",
       "      <td>-1.404351</td>\n",
       "      <td>...</td>\n",
       "      <td>90005.0</td>\n",
       "      <td>S-Shorts</td>\n",
       "      <td>58.0</td>\n",
       "      <td>CTN</td>\n",
       "      <td>1006.0</td>\n",
       "      <td>PCS</td>\n",
       "      <td>398.93</td>\n",
       "      <td>KG</td>\n",
       "      <td>2.53</td>\n",
       "      <td>CBM</td>\n",
       "    </tr>\n",
       "  </tbody>\n",
       "</table>\n",
       "<p>5 rows × 27 columns</p>\n",
       "</div>"
      ],
      "text/plain": [
       "                 Load Port  Load Port LAT  Load Port LON  Index  \\\n",
       "0  BANGLADESH - CHITTAGONG      22.356851      91.783182      1   \n",
       "1  BANGLADESH - CHITTAGONG      22.356851      91.783182      2   \n",
       "2  BANGLADESH - CHITTAGONG      22.356851      91.783182      3   \n",
       "3  BANGLADESH - CHITTAGONG      22.356851      91.783182      4   \n",
       "4  BANGLADESH - CHITTAGONG      22.356851      91.783182      5   \n",
       "\n",
       "  Eqp Type (Abrv) in Shipment  Eqp Number        ETD         Dsch Port  \\\n",
       "0                        20FT         1.0 2016-03-13  UK - SOUTHAMPTON   \n",
       "1                        20FT         1.0 2016-03-13  UK - SOUTHAMPTON   \n",
       "2                        20FT         1.0 2016-03-13  UK - SOUTHAMPTON   \n",
       "3                        20FT         1.0 2016-03-13  UK - SOUTHAMPTON   \n",
       "4                        20FT         1.0 2016-03-13  UK - SOUTHAMPTON   \n",
       "\n",
       "   Dsch Port LAT  Dsch Port LON        ...           PO No. Item Class  \\\n",
       "0        50.9097      -1.404351        ...          90001.0   S-Shorts   \n",
       "1        50.9097      -1.404351        ...          90002.0   S-Shorts   \n",
       "2        50.9097      -1.404351        ...          90003.0   S-Shorts   \n",
       "3        50.9097      -1.404351        ...          90004.0   S-Shorts   \n",
       "4        50.9097      -1.404351        ...          90005.0   S-Shorts   \n",
       "\n",
       "  Shipped Qty  PkgCode Shipped Dtl Qty  PkgCode.1 Item Shipped Wgt  \\\n",
       "0        31.0      CTN           700.0        PCS           362.90   \n",
       "1        15.0      CTN           360.0        PCS           169.50   \n",
       "2        23.0      CTN           500.0        PCS           227.40   \n",
       "3        17.0      CTN           366.0        PCS           181.85   \n",
       "4        58.0      CTN          1006.0        PCS           398.93   \n",
       "\n",
       "   Unit of Measure.2 Item Shipped Msr  Unit of Measure.3  \n",
       "0                 KG             1.86                CBM  \n",
       "1                 KG             0.90                CBM  \n",
       "2                 KG             1.38                CBM  \n",
       "3                 KG             1.02                CBM  \n",
       "4                 KG             2.53                CBM  \n",
       "\n",
       "[5 rows x 27 columns]"
      ]
     },
     "execution_count": 5,
     "metadata": {},
     "output_type": "execute_result"
    }
   ],
   "source": [
    "# check data import\n",
    "hist_df.head()"
   ]
  },
  {
   "cell_type": "code",
   "execution_count": 7,
   "metadata": {},
   "outputs": [
    {
     "name": "stdout",
     "output_type": "stream",
     "text": [
      "<class 'pandas.core.frame.DataFrame'>\n",
      "Int64Index: 4807 entries, 0 to 5618\n",
      "Data columns (total 27 columns):\n",
      "Load Port                      4807 non-null object\n",
      "Load Port LAT                  4807 non-null float64\n",
      "Load Port LON                  4807 non-null float64\n",
      "Index                          4807 non-null int64\n",
      "Eqp Type (Abrv) in Shipment    4807 non-null object\n",
      "Eqp Number                     4807 non-null float64\n",
      "ETD                            4807 non-null datetime64[ns]\n",
      "Dsch Port                      4807 non-null object\n",
      "Dsch Port LAT                  4807 non-null float64\n",
      "Dsch Port LON                  4807 non-null float64\n",
      "ETA Dsch Port                  4807 non-null datetime64[ns]\n",
      "Final Dest                     4807 non-null object\n",
      "ETA Final Dest                 4807 non-null datetime64[ns]\n",
      "Msr (Per Eqp)                  4807 non-null float64\n",
      "Unit of Measure                4807 non-null object\n",
      "Wgt (Per Eqp)                  4807 non-null float64\n",
      "Unit of Measure.1              4807 non-null object\n",
      "PO No.                         4807 non-null float64\n",
      "Item Class                     4807 non-null object\n",
      "Shipped Qty                    4807 non-null float64\n",
      "PkgCode                        4807 non-null object\n",
      "Shipped Dtl Qty                4807 non-null float64\n",
      "PkgCode.1                      4807 non-null object\n",
      "Item Shipped Wgt               4807 non-null float64\n",
      "Unit of Measure.2              4807 non-null object\n",
      "Item Shipped Msr               4807 non-null float64\n",
      "Unit of Measure.3              4807 non-null object\n",
      "dtypes: datetime64[ns](3), float64(12), int64(1), object(11)\n",
      "memory usage: 1.0+ MB\n"
     ]
    }
   ],
   "source": [
    "# quick and dirty - drop missing data\n",
    "tmp_hist_df = hist_df.dropna()\n",
    "tmp_hist_df.info()"
   ]
  },
  {
   "cell_type": "code",
   "execution_count": 8,
   "metadata": {},
   "outputs": [
    {
     "data": {
      "text/plain": [
       "I-Knitwear       1731\n",
       "B-Jeans          1098\n",
       "D-Jackets         440\n",
       "M-Tops            414\n",
       "S-Shorts          250\n",
       "F-Sweatshirts     243\n",
       "Y-Skirts          234\n",
       "C-Trousers        201\n",
       "K-Shirts          186\n",
       "A-Accessories      10\n",
       "Name: Item Class, dtype: int64"
      ]
     },
     "execution_count": 8,
     "metadata": {},
     "output_type": "execute_result"
    }
   ],
   "source": [
    "\n",
    "tmp_hist_df['Item Class'].value_counts()"
   ]
  },
  {
   "cell_type": "code",
   "execution_count": 22,
   "metadata": {},
   "outputs": [],
   "source": [
    "# quick and dirty - get pivot 1\n",
    "hist_pt1 = get_pivot_table(tmp_hist_df, val_col=['Shipped Qty'], index_col=['PO No.'], cols_col=['Item Class'], fn=np.sum)"
   ]
  },
  {
   "cell_type": "code",
   "execution_count": 30,
   "metadata": {},
   "outputs": [],
   "source": [
    "# quick and dirty - get pivot 2\n",
    "hist_pt2 = get_pivot_table(tmp_hist_df, val_col=['Item Shipped Msr'], index_col=['PO No.'], cols_col=[], fn=np.sum)"
   ]
  },
  {
   "cell_type": "code",
   "execution_count": 31,
   "metadata": {},
   "outputs": [],
   "source": [
    "# join pt1 (quantity in pieces) with pt2 (volume in CBM)\n",
    "hist_pt = pd.merge(hist_pt1,hist_pt2,how='inner',on=['PO No.'])"
   ]
  },
  {
   "cell_type": "code",
   "execution_count": 32,
   "metadata": {},
   "outputs": [],
   "source": [
    "# fill na by zeros\n",
    "hist_pt = hist_pt.fillna(0)"
   ]
  },
  {
   "cell_type": "code",
   "execution_count": 37,
   "metadata": {},
   "outputs": [],
   "source": [
    "# define x y columns\n",
    "mod_col_lst = list(hist_pt.columns)\n",
    "x_col = []\n",
    "y_col = []\n",
    "for i in mod_col_lst:\n",
    "    if 'Msr' not in i:\n",
    "        x_col.append(i)\n",
    "    else:\n",
    "        y_col.append(i)"
   ]
  },
  {
   "cell_type": "code",
   "execution_count": 42,
   "metadata": {},
   "outputs": [
    {
     "data": {
      "text/plain": [
       "['PO No.',\n",
       " ('Shipped Qty', 'A-Accessories'),\n",
       " ('Shipped Qty', 'B-Jeans'),\n",
       " ('Shipped Qty', 'C-Trousers'),\n",
       " ('Shipped Qty', 'D-Jackets'),\n",
       " ('Shipped Qty', 'F-Sweatshirts'),\n",
       " ('Shipped Qty', 'I-Knitwear'),\n",
       " ('Shipped Qty', 'K-Shirts'),\n",
       " ('Shipped Qty', 'M-Tops'),\n",
       " ('Shipped Qty', 'S-Shorts'),\n",
       " ('Shipped Qty', 'Y-Skirts'),\n",
       " 'Item Shipped Msr']"
      ]
     },
     "execution_count": 42,
     "metadata": {},
     "output_type": "execute_result"
    }
   ],
   "source": [
    "mod_col_lst"
   ]
  },
  {
   "cell_type": "code",
   "execution_count": 56,
   "metadata": {},
   "outputs": [],
   "source": [
    "# quick and dirty - build X y\n",
    "X = pd.DataFrame()\n",
    "for i in x_col:\n",
    "    X[i] = hist_pt[i]\n",
    "y = hist_pt[y_col]"
   ]
  },
  {
   "cell_type": "code",
   "execution_count": null,
   "metadata": {},
   "outputs": [],
   "source": []
  },
  {
   "cell_type": "code",
   "execution_count": null,
   "metadata": {},
   "outputs": [],
   "source": []
  },
  {
   "cell_type": "code",
   "execution_count": 58,
   "metadata": {},
   "outputs": [
    {
     "name": "stderr",
     "output_type": "stream",
     "text": [
      "C:\\Users\\bryantlee\\AppData\\Local\\Continuum\\anaconda3\\lib\\site-packages\\sklearn\\model_selection\\_split.py:2026: FutureWarning: From version 0.21, test_size will always complement train_size unless both are specified.\n",
      "  FutureWarning)\n",
      "C:\\Users\\bryantlee\\AppData\\Local\\Continuum\\anaconda3\\lib\\site-packages\\ipykernel_launcher.py:16: DataConversionWarning: A column-vector y was passed when a 1d array was expected. Please change the shape of y to (n_samples,), for example using ravel().\n",
      "  app.launch_new_instance()\n"
     ]
    }
   ],
   "source": [
    "# baseline (multi-output)\n",
    "X_train, X_test, y_train, y_test = model_selection.train_test_split(X, y, train_size=0.7)\n",
    "\n",
    "regr_multirf = multioutput.MultiOutputRegressor(ensemble.RandomForestRegressor())\n",
    "regr_multirf.fit(X_train, y_train)\n",
    "\n",
    "regr_multiada = multioutput.MultiOutputRegressor(ensemble.AdaBoostRegressor())\n",
    "regr_multiada.fit(X_train, y_train)\n",
    "\n",
    "regr_multixtr = multioutput.MultiOutputRegressor(ensemble.ExtraTreesRegressor())\n",
    "regr_multixtr.fit(X_train, y_train)\n",
    "\n",
    "regr_multigbt = multioutput.MultiOutputRegressor(ensemble.GradientBoostingRegressor())\n",
    "regr_multigbt.fit(X_train, y_train)\n",
    "\n",
    "regr_rf = ensemble.RandomForestRegressor()\n",
    "regr_rf.fit(X_train, y_train)\n",
    "\n",
    "# Predict on new data\n",
    "y_multirf = regr_multirf.predict(X_test)\n",
    "y_multiada = regr_multiada.predict(X_test)\n",
    "y_multixtr = regr_multixtr.predict(X_test)\n",
    "y_multigbt = regr_multigbt.predict(X_test)\n",
    "y_rf = regr_rf.predict(X_test)"
   ]
  },
  {
   "cell_type": "code",
   "execution_count": 59,
   "metadata": {},
   "outputs": [
    {
     "name": "stdout",
     "output_type": "stream",
     "text": [
      "963.6190922371893\n",
      "292.4292662715946\n",
      "968.8917117683001\n",
      "565.6494853904987\n",
      "494.05943317357077\n"
     ]
    }
   ],
   "source": [
    "print(metrics.mean_squared_error(y_test, y_multirf))\n",
    "print(metrics.mean_squared_error(y_test, y_multiada))\n",
    "print(metrics.mean_squared_error(y_test, y_multixtr))\n",
    "print(metrics.mean_squared_error(y_test, y_multigbt))\n",
    "print(metrics.mean_squared_error(y_test, y_rf))"
   ]
  },
  {
   "cell_type": "code",
   "execution_count": 60,
   "metadata": {},
   "outputs": [
    {
     "name": "stdout",
     "output_type": "stream",
     "text": [
      "189.95086501570918\n"
     ]
    },
    {
     "name": "stderr",
     "output_type": "stream",
     "text": [
      "C:\\Users\\bryantlee\\AppData\\Local\\Continuum\\anaconda3\\lib\\site-packages\\sklearn\\model_selection\\_split.py:2026: FutureWarning: From version 0.21, test_size will always complement train_size unless both are specified.\n",
      "  FutureWarning)\n",
      "C:\\Users\\bryantlee\\AppData\\Local\\Continuum\\anaconda3\\lib\\site-packages\\ipykernel_launcher.py:4: DataConversionWarning: A column-vector y was passed when a 1d array was expected. Please change the shape of y to (n_samples,), for example using ravel().\n",
      "  after removing the cwd from sys.path.\n"
     ]
    }
   ],
   "source": [
    "X_train, X_test, y_train, y_test = model_selection.train_test_split(X, y, train_size=0.7)\n",
    "\n",
    "regr_rfr = ensemble.RandomForestRegressor()\n",
    "regr_rfr.fit(X_train, y_train)\n",
    "\n",
    "y_regr_rfr = regr_rfr.predict(X_test)\n",
    "\n",
    "print(metrics.mean_squared_error(y_test,y_regr_rfr))"
   ]
  },
  {
   "cell_type": "code",
   "execution_count": null,
   "metadata": {},
   "outputs": [],
   "source": []
  },
  {
   "cell_type": "code",
   "execution_count": null,
   "metadata": {},
   "outputs": [],
   "source": []
  },
  {
   "cell_type": "code",
   "execution_count": 61,
   "metadata": {},
   "outputs": [],
   "source": [
    "joblib.dump(regr_rfr, 'freight_pred.pkl')"
   ]
  },
  {
   "cell_type": "code",
   "execution_count": null,
   "metadata": {
    "collapsed": true
   },
   "outputs": [],
   "source": []
  }
 ],
 "metadata": {
  "kernelspec": {
   "display_name": "Python 3",
   "language": "python",
   "name": "python3"
  },
  "language_info": {
   "codemirror_mode": {
    "name": "ipython",
    "version": 3
   },
   "file_extension": ".py",
   "mimetype": "text/x-python",
   "name": "python",
   "nbconvert_exporter": "python",
   "pygments_lexer": "ipython3",
   "version": "3.6.4"
  }
 },
 "nbformat": 4,
 "nbformat_minor": 1
}
