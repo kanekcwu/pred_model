{
 "cells": [
  {
   "cell_type": "code",
   "execution_count": 1,
   "metadata": {
    "collapsed": false
   },
   "outputs": [],
   "source": [
    "# import required packages\n",
    "# import pyodbc\n",
    "import pandas as pd\n",
    "import numpy as np\n",
    "from pandas.io import sql\n",
    "# from tqdm import tqdm\n",
    "import datetime\n",
    "\n",
    "import sqlite3\n",
    "sqlite_db = 'freight.sqlite'\n",
    "conn = sqlite3.connect(sqlite_db)\n",
    "c = conn.cursor()\n",
    "from IPython.display import clear_output"
   ]
  },
  {
   "cell_type": "markdown",
   "metadata": {},
   "source": [
    "#### Add records to the tables\n",
    "``` python\n",
    "df.to_sql('Name_of_table',\n",
    "            con=conn,\n",
    "            if_exists='replace',\n",
    "            index=False)\n",
    "```\n",
    "\n",
    "#### Read records from the table\n",
    "``` python\n",
    "sql.read_sql('select * from Name_of_table limit 10', con=conn)\n",
    "```"
   ]
  },
  {
   "cell_type": "code",
   "execution_count": 2,
   "metadata": {
    "collapsed": false
   },
   "outputs": [],
   "source": [
    "# load the library\n",
    "import requests\n",
    "import bs4\n",
    "from bs4 import BeautifulSoup\n",
    "import urllib, requests\n",
    "import pandas as pd\n",
    "from tqdm import tqdm\n",
    "import sys\n",
    "sys.setrecursionlimit(10000)"
   ]
  },
  {
   "cell_type": "code",
   "execution_count": 3,
   "metadata": {
    "collapsed": true
   },
   "outputs": [],
   "source": [
    "def parse_table(table):\n",
    "    \"\"\" Get data from table \"\"\"\n",
    "    return [\n",
    "        [cell.get_text().strip() for cell in row.find_all(['th', 'td'])]\n",
    "           for row in table.find_all('tr')\n",
    "    ]"
   ]
  },
  {
   "cell_type": "code",
   "execution_count": 17,
   "metadata": {
    "collapsed": true
   },
   "outputs": [],
   "source": [
    "def get_html(num):\n",
    "    URLa = 'https://www.bigschedules.com/indexSlide/home-bigschedules'\n",
    "    URLb = '.html'\n",
    "    URL = URLa+str(num)+URLb\n",
    "    html_content = BeautifulSoup(urllib.request.urlopen(URL), \"lxml\")\n",
    "    return html_content"
   ]
  },
  {
   "cell_type": "code",
   "execution_count": 5,
   "metadata": {
    "collapsed": true
   },
   "outputs": [],
   "source": [
    "def get_coord(html_content):\n",
    "    tmp_coord = html_content.find('a', attrs={'class': 'various'}).attrs['href']\n",
    "    for i in range(len(tmp_coord)):\n",
    "        if tmp_coord[i:i+2] == \"y=\":\n",
    "            pt_a = i\n",
    "        if tmp_coord[i:i+2] == \"x=\":\n",
    "            pt_b = i\n",
    "    Latitude = tmp_coord[pt_a+2:pt_b-1]\n",
    "    Longitude = tmp_coord[pt_b+2:]\n",
    "    return Latitude, Longitude"
   ]
  },
  {
   "cell_type": "code",
   "execution_count": 6,
   "metadata": {
    "collapsed": false
   },
   "outputs": [],
   "source": [
    "def tabulate_html(html_content, num):\n",
    "    web_table = html_content.find('table', attrs={'class': 'de_box_table'})\n",
    "    pd_tbl_orig = parse_table(web_table)\n",
    "    pd_tbl = pd.DataFrame(pd_tbl_orig[1:])\n",
    "    pd_tbl = pd_tbl.transpose()\n",
    "    tmp_header = pd_tbl.iloc[0:1]\n",
    "    tmp_data = pd_tbl.iloc[1:2]\n",
    "    tmp_df = pd.DataFrame()\n",
    "    tmp_df = tmp_df.append(tmp_data)\n",
    "    tmp_df.columns = tmp_header.transpose()[0]\n",
    "    y, x = get_coord(html_content)\n",
    "    tmp_df['Latitude'] = y\n",
    "    tmp_df['Longitude'] = x\n",
    "    tmp_df['ID'] = num\n",
    "    return tmp_df"
   ]
  },
  {
   "cell_type": "code",
   "execution_count": 7,
   "metadata": {
    "collapsed": false
   },
   "outputs": [],
   "source": [
    "def build_tbl(start, end, first=False):\n",
    "    if first:\n",
    "        master_df = pd.DataFrame()\n",
    "    else:\n",
    "        try:\n",
    "            master_df = sql.read_sql('select * from housing', con=conn)\n",
    "        except:\n",
    "            master_df = pd.DataFrame()\n",
    "    for i in tqdm(range(start,end)):\n",
    "        html_content = get_html(i)\n",
    "        success = False\n",
    "        try:\n",
    "            page_df = tabulate_html(html_content, i)\n",
    "            success = True\n",
    "        except:\n",
    "            pass\n",
    "        if success:\n",
    "            if len(master_df) <= 0:\n",
    "                master_df = master_df.append(page_df)\n",
    "            elif list(page_df['ID']) not in list(master_df['ID']) :\n",
    "                master_df = master_df.append(page_df)\n",
    "            \n",
    "            try:\n",
    "                page_df.to_sql('housing', con=conn, if_exists='append', index=False)\n",
    "            except:\n",
    "                master_df.to_sql('housing', con=conn, if_exists='replace', index=False)\n",
    "            progress = pd.DataFrame([i], columns=['Count'])\n",
    "            progress.to_sql('step', con=conn, if_exists='replace', index=False)\n",
    "            clear_output()\n",
    "    #save_data(master_df,'master_df')\n",
    "    #save_data(i, 'step')\n",
    "    return master_df"
   ]
  },
  {
   "cell_type": "code",
   "execution_count": 8,
   "metadata": {
    "collapsed": false
   },
   "outputs": [],
   "source": [
    "def reset_all_parameters():\n",
    "    master_df = pd.DataFrame()\n",
    "    save_data(master_df,'master_df')\n",
    "    html_content = get_html(100)\n",
    "    master_df = tabulate_html(html_content,100)\n",
    "    save_data(master_df,'master_df')\n",
    "    step = 0\n",
    "    save_data(step,'step')\n",
    "# reset_all_parameters()"
   ]
  },
  {
   "cell_type": "code",
   "execution_count": 18,
   "metadata": {
    "collapsed": true
   },
   "outputs": [],
   "source": [
    "# 124700 - 235270\n",
    "# 235271 - 360000"
   ]
  },
  {
   "cell_type": "code",
   "execution_count": 13,
   "metadata": {
    "collapsed": true
   },
   "outputs": [],
   "source": [
    "progress = pd.DataFrame([167389], columns=['Count'])\n",
    "progress.to_sql('step', con=conn, if_exists='replace', index=False)"
   ]
  },
  {
   "cell_type": "code",
   "execution_count": 6,
   "metadata": {
    "collapsed": false
   },
   "outputs": [],
   "source": [
    "start = sql.read_sql('select * from step', con=conn)\n",
    "start = start['Count'].iloc[0]\n",
    "start = max(start, 124700)\n",
    "# end = 365000\n",
    "end = 235270\n",
    "xtmp = build_tbl(start,end)"
   ]
  },
  {
   "cell_type": "code",
   "execution_count": 4,
   "metadata": {
    "collapsed": false
   },
   "outputs": [
    {
     "data": {
      "text/plain": [
       "62355"
      ]
     },
     "execution_count": 4,
     "metadata": {},
     "output_type": "execute_result"
    }
   ],
   "source": [
    "tmp = sql.read_sql('select * from housing', con=conn)\n",
    "len(tmp)"
   ]
  },
  {
   "cell_type": "code",
   "execution_count": 5,
   "metadata": {
    "collapsed": false
   },
   "outputs": [
    {
     "data": {
      "text/plain": [
       "(62355, 22)"
      ]
     },
     "execution_count": 5,
     "metadata": {},
     "output_type": "execute_result"
    }
   ],
   "source": [
    "tmp.shape"
   ]
  },
  {
   "cell_type": "code",
   "execution_count": 43,
   "metadata": {
    "collapsed": false
   },
   "outputs": [
    {
     "data": {
      "text/plain": [
       "Index(['Status', 'Rent', 'Block and unit number', 'Floor', 'Room',\n",
       "       'Gross area(sq feet)', 'Net floor area(sq feet)', 'Management Fee',\n",
       "       'Property age(year)', 'Address', 'Views #', 'Bookmarked #',\n",
       "       'Ads or renew date', 'Modified date', 'User last login', 'Expire date',\n",
       "       'Latitude', 'Longitude', 'ID'],\n",
       "      dtype='object')"
      ]
     },
     "execution_count": 43,
     "metadata": {},
     "output_type": "execute_result"
    }
   ],
   "source": [
    "tmp.columns"
   ]
  },
  {
   "cell_type": "code",
   "execution_count": 47,
   "metadata": {
    "collapsed": false
   },
   "outputs": [],
   "source": [
    "tmp['Price']= np.NaN"
   ]
  },
  {
   "cell_type": "code",
   "execution_count": 2,
   "metadata": {
    "collapsed": false
   },
   "outputs": [
    {
     "data": {
      "text/html": [
       "<div>\n",
       "<table border=\"1\" class=\"dataframe\">\n",
       "  <thead>\n",
       "    <tr style=\"text-align: right;\">\n",
       "      <th></th>\n",
       "      <th>Count</th>\n",
       "    </tr>\n",
       "  </thead>\n",
       "  <tbody>\n",
       "    <tr>\n",
       "      <th>0</th>\n",
       "      <td>126703</td>\n",
       "    </tr>\n",
       "  </tbody>\n",
       "</table>\n",
       "</div>"
      ],
      "text/plain": [
       "    Count\n",
       "0  126703"
      ]
     },
     "execution_count": 2,
     "metadata": {},
     "output_type": "execute_result"
    }
   ],
   "source": [
    "sql.read_sql('select * from step', con=conn)"
   ]
  },
  {
   "cell_type": "code",
   "execution_count": 3,
   "metadata": {
    "collapsed": false,
    "scrolled": false
   },
   "outputs": [],
   "source": [
    "sql.read_sql('select * from housing', con=conn)"
   ]
  },
  {
   "cell_type": "code",
   "execution_count": null,
   "metadata": {
    "collapsed": true
   },
   "outputs": [],
   "source": []
  }
 ],
 "metadata": {
  "anaconda-cloud": {},
  "kernelspec": {
   "display_name": "Python 3",
   "language": "python",
   "name": "python3"
  },
  "language_info": {
   "codemirror_mode": {
    "name": "ipython",
    "version": 3
   },
   "file_extension": ".py",
   "mimetype": "text/x-python",
   "name": "python",
   "nbconvert_exporter": "python",
   "pygments_lexer": "ipython3",
   "version": "3.6.0"
  }
 },
 "nbformat": 4,
 "nbformat_minor": 0
}
