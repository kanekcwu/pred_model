{
 "cells": [
  {
   "cell_type": "markdown",
   "metadata": {},
   "source": [
    "### Webscrape the web to obtain sea port details"
   ]
  },
  {
   "cell_type": "code",
   "execution_count": 1,
   "metadata": {
    "collapsed": true
   },
   "outputs": [],
   "source": [
    "# load the library\n",
    "import numpy as np\n",
    "import pandas as pd\n",
    "from tqdm import tqdm\n",
    "\n",
    "# load selenium\n",
    "import selenium\n",
    "from selenium import webdriver\n",
    "from selenium.webdriver.common.keys import Keys\n",
    "import pyperclip\n",
    "from IPython.display import clear_output\n",
    "import sqlite3\n",
    "from pandas.io import sql\n",
    "import datetime\n",
    "import time"
   ]
  },
  {
   "cell_type": "code",
   "execution_count": 2,
   "metadata": {
    "collapsed": true
   },
   "outputs": [],
   "source": [
    "# handling page refresh\n",
    "from selenium.webdriver.support.ui import WebDriverWait\n",
    "from selenium.webdriver.support import expected_conditions as EC\n",
    "from selenium.webdriver.common.by import By\n",
    "from selenium.common.exceptions import TimeoutException"
   ]
  },
  {
   "cell_type": "code",
   "execution_count": 3,
   "metadata": {
    "collapsed": true
   },
   "outputs": [],
   "source": [
    "# Set name of your SQLite database\n",
    "db_name = \"web_freight_data\"\n",
    "\n",
    "sqlite_db = db_name + '.sqlite'\n",
    "conn = sqlite3.connect(sqlite_db)\n",
    "c = conn.cursor()"
   ]
  },
  {
   "cell_type": "code",
   "execution_count": 4,
   "metadata": {
    "collapsed": true
   },
   "outputs": [],
   "source": [
    "# load the library\n",
    "import requests\n",
    "import bs4\n",
    "from bs4 import BeautifulSoup\n",
    "import numpy as np\n",
    "import requests\n",
    "import pandas as pd\n",
    "from tqdm import tqdm\n",
    "pd.set_option('max_colwidth',1000)\n",
    "import time\n",
    "from sklearn.externals import joblib"
   ]
  },
  {
   "cell_type": "code",
   "execution_count": 6,
   "metadata": {
    "collapsed": true
   },
   "outputs": [],
   "source": [
    "freight_lanes = pd.read_excel('freight_lanes.xlsx')"
   ]
  },
  {
   "cell_type": "code",
   "execution_count": 7,
   "metadata": {
    "collapsed": true
   },
   "outputs": [],
   "source": [
    "# download chromedriver.exe and save to a local drive locaiton:\n",
    "location_of_chromedriver = \"Selenium/chromedriver.exe\"\n",
    "site_url = \"https://www.searates.com/maritime/\""
   ]
  },
  {
   "cell_type": "code",
   "execution_count": 10,
   "metadata": {
    "collapsed": true
   },
   "outputs": [],
   "source": [
    "# set browser and go to google maps\n",
    "def init_browser(URL = 'https://www.google.com.hk/maps'):\n",
    "    try:\n",
    "        browser = webdriver.Chrome(location_of_chromedriver)\n",
    "    except:\n",
    "        browser = webdriver.Firefox()\n",
    "    browser.get(URL)\n",
    "    return browser"
   ]
  },
  {
   "cell_type": "code",
   "execution_count": 11,
   "metadata": {},
   "outputs": [],
   "source": [
    "rate_site = init_browser(site_url)"
   ]
  },
  {
   "cell_type": "code",
   "execution_count": 102,
   "metadata": {
    "collapsed": true
   },
   "outputs": [],
   "source": [
    "countries = rate_site.find_elements_by_tag_name('a')"
   ]
  },
  {
   "cell_type": "code",
   "execution_count": 104,
   "metadata": {
    "collapsed": true
   },
   "outputs": [],
   "source": [
    "country_txt = rate_site.find_elements_by_class_name('col-xs-6')"
   ]
  },
  {
   "cell_type": "code",
   "execution_count": 107,
   "metadata": {
    "collapsed": true
   },
   "outputs": [],
   "source": [
    "link_list = []\n",
    "country_list = []\n",
    "for i in countries:\n",
    "    tmp_txt = i.get_attribute('href')\n",
    "    link_list.append(tmp_txt)\n",
    "for i in country_txt:\n",
    "    tmp_txt = i.text\n",
    "    country_list.append(tmp_txt)"
   ]
  },
  {
   "cell_type": "code",
   "execution_count": 111,
   "metadata": {
    "collapsed": true
   },
   "outputs": [],
   "source": [
    "link_list2 = []\n",
    "for i in link_list:\n",
    "    try:\n",
    "        if \"/maritime/\" in i and \".htm\" in i:\n",
    "            link_list2.append(i)\n",
    "    except:\n",
    "        pass"
   ]
  },
  {
   "cell_type": "code",
   "execution_count": 114,
   "metadata": {
    "collapsed": true
   },
   "outputs": [],
   "source": [
    "country_link = pd.DataFrame()\n",
    "country_link['Country Links'] = link_list2\n",
    "country_link['Country'] = country_list\n",
    "country_link.to_csv('country_link.csv', index=False, encoding='utf_8')"
   ]
  },
  {
   "cell_type": "code",
   "execution_count": 115,
   "metadata": {
    "collapsed": true
   },
   "outputs": [],
   "source": [
    "country_link = pd.read_csv('country_link.csv')"
   ]
  },
  {
   "cell_type": "code",
   "execution_count": 124,
   "metadata": {
    "collapsed": true
   },
   "outputs": [],
   "source": [
    "def get_port_list(rate_site):\n",
    "    port_list = rate_site.find_elements_by_tag_name('a')\n",
    "    port_list2 = []\n",
    "    for i in port_list:\n",
    "        tmp = i.get_attribute('href')\n",
    "        try:\n",
    "            if \"/port/\" in tmp:\n",
    "                port_list2.append(tmp)\n",
    "        except:\n",
    "            pass\n",
    "    ports = []\n",
    "    for i in range(len(port_list2)):\n",
    "        tmp = rate_site.find_element_by_id('port_{}'.format(i)).text\n",
    "        ports.append(tmp)\n",
    "    return port_list2, ports"
   ]
  },
  {
   "cell_type": "code",
   "execution_count": 117,
   "metadata": {},
   "outputs": [
    {
     "data": {
      "text/html": [
       "<div>\n",
       "<style>\n",
       "    .dataframe thead tr:only-child th {\n",
       "        text-align: right;\n",
       "    }\n",
       "\n",
       "    .dataframe thead th {\n",
       "        text-align: left;\n",
       "    }\n",
       "\n",
       "    .dataframe tbody tr th {\n",
       "        vertical-align: top;\n",
       "    }\n",
       "</style>\n",
       "<table border=\"1\" class=\"dataframe\">\n",
       "  <thead>\n",
       "    <tr style=\"text-align: right;\">\n",
       "      <th></th>\n",
       "      <th>Country Links</th>\n",
       "      <th>Country</th>\n",
       "    </tr>\n",
       "  </thead>\n",
       "  <tbody>\n",
       "    <tr>\n",
       "      <th>0</th>\n",
       "      <td>https://www.searates.com/maritime/albania.htm</td>\n",
       "      <td>Albania</td>\n",
       "    </tr>\n",
       "    <tr>\n",
       "      <th>1</th>\n",
       "      <td>https://www.searates.com/maritime/algeria.htm</td>\n",
       "      <td>Algeria</td>\n",
       "    </tr>\n",
       "    <tr>\n",
       "      <th>2</th>\n",
       "      <td>https://www.searates.com/maritime/american_samoa.htm</td>\n",
       "      <td>American Samoa</td>\n",
       "    </tr>\n",
       "    <tr>\n",
       "      <th>3</th>\n",
       "      <td>https://www.searates.com/maritime/andorra.htm</td>\n",
       "      <td>Andorra</td>\n",
       "    </tr>\n",
       "    <tr>\n",
       "      <th>4</th>\n",
       "      <td>https://www.searates.com/maritime/angola.htm</td>\n",
       "      <td>Angola</td>\n",
       "    </tr>\n",
       "  </tbody>\n",
       "</table>\n",
       "</div>"
      ],
      "text/plain": [
       "                                          Country Links         Country\n",
       "0         https://www.searates.com/maritime/albania.htm         Albania\n",
       "1         https://www.searates.com/maritime/algeria.htm         Algeria\n",
       "2  https://www.searates.com/maritime/american_samoa.htm  American Samoa\n",
       "3         https://www.searates.com/maritime/andorra.htm         Andorra\n",
       "4          https://www.searates.com/maritime/angola.htm          Angola"
      ]
     },
     "execution_count": 117,
     "metadata": {},
     "output_type": "execute_result"
    }
   ],
   "source": [
    "country_link.head()"
   ]
  },
  {
   "cell_type": "code",
   "execution_count": 129,
   "metadata": {
    "collapsed": true
   },
   "outputs": [],
   "source": [
    "counter = 0\n",
    "max_count = len(country_link)\n",
    "summary_df = pd.DataFrame()"
   ]
  },
  {
   "cell_type": "code",
   "execution_count": 135,
   "metadata": {},
   "outputs": [
    {
     "data": {
      "text/plain": [
       "'https://www.searates.com/maritime/comoros.htm'"
      ]
     },
     "execution_count": 135,
     "metadata": {},
     "output_type": "execute_result"
    }
   ],
   "source": [
    "country_link['Country Links'].iloc[counter]"
   ]
  },
  {
   "cell_type": "code",
   "execution_count": 136,
   "metadata": {
    "collapsed": true,
    "scrolled": true
   },
   "outputs": [],
   "source": [
    "# find the individaul port detail links\n",
    "while counter < max_count:\n",
    "    rate_site.get(country_link['Country Links'].iloc[counter])\n",
    "    time.sleep(1)\n",
    "    tmp_link, tmp_port = get_port_list(rate_site)\n",
    "    tmp_df = pd.DataFrame()\n",
    "    tmp_df['Port Link'] = tmp_link\n",
    "    tmp_df['Port'] = tmp_port\n",
    "    tmp_df['Country'] = country_link['Country'].iloc[counter]\n",
    "    summary_df = summary_df.append(tmp_df)\n",
    "    counter = counter + 1"
   ]
  },
  {
   "cell_type": "code",
   "execution_count": 138,
   "metadata": {},
   "outputs": [
    {
     "data": {
      "text/plain": [
       "(3525, 3)"
      ]
     },
     "execution_count": 138,
     "metadata": {},
     "output_type": "execute_result"
    }
   ],
   "source": [
    "summary_df.shape"
   ]
  },
  {
   "cell_type": "code",
   "execution_count": 139,
   "metadata": {
    "collapsed": true
   },
   "outputs": [],
   "source": [
    "summary_df.to_csv('port_links.csv', index=False, encoding='utf_8')"
   ]
  },
  {
   "cell_type": "markdown",
   "metadata": {},
   "source": [
    "### Review the summary details"
   ]
  },
  {
   "cell_type": "code",
   "execution_count": 5,
   "metadata": {},
   "outputs": [
    {
     "data": {
      "text/html": [
       "<div>\n",
       "<table border=\"1\" class=\"dataframe\">\n",
       "  <thead>\n",
       "    <tr style=\"text-align: right;\">\n",
       "      <th></th>\n",
       "      <th>Port Link</th>\n",
       "      <th>Port</th>\n",
       "      <th>Country</th>\n",
       "    </tr>\n",
       "  </thead>\n",
       "  <tbody>\n",
       "    <tr>\n",
       "      <th>0</th>\n",
       "      <td>https://www.searates.com/port/durres_al.htm</td>\n",
       "      <td>Durres</td>\n",
       "      <td>Albania</td>\n",
       "    </tr>\n",
       "    <tr>\n",
       "      <th>1</th>\n",
       "      <td>https://www.searates.com/port/sarande_al.htm</td>\n",
       "      <td>Sarande</td>\n",
       "      <td>Albania</td>\n",
       "    </tr>\n",
       "    <tr>\n",
       "      <th>2</th>\n",
       "      <td>https://www.searates.com/port/shengjin_al.htm</td>\n",
       "      <td>Shengjin</td>\n",
       "      <td>Albania</td>\n",
       "    </tr>\n",
       "    <tr>\n",
       "      <th>3</th>\n",
       "      <td>https://www.searates.com/port/valona_al.htm</td>\n",
       "      <td>Valona</td>\n",
       "      <td>Albania</td>\n",
       "    </tr>\n",
       "    <tr>\n",
       "      <th>4</th>\n",
       "      <td>https://www.searates.com/port/vlore_al.htm</td>\n",
       "      <td>Vlore</td>\n",
       "      <td>Albania</td>\n",
       "    </tr>\n",
       "  </tbody>\n",
       "</table>\n",
       "</div>"
      ],
      "text/plain": [
       "                                       Port Link      Port  Country\n",
       "0    https://www.searates.com/port/durres_al.htm    Durres  Albania\n",
       "1   https://www.searates.com/port/sarande_al.htm   Sarande  Albania\n",
       "2  https://www.searates.com/port/shengjin_al.htm  Shengjin  Albania\n",
       "3    https://www.searates.com/port/valona_al.htm    Valona  Albania\n",
       "4     https://www.searates.com/port/vlore_al.htm     Vlore  Albania"
      ]
     },
     "execution_count": 5,
     "metadata": {},
     "output_type": "execute_result"
    }
   ],
   "source": [
    "summary_df = pd.read_csv('port_links.csv')\n",
    "summary_df.head()"
   ]
  },
  {
   "cell_type": "code",
   "execution_count": 43,
   "metadata": {},
   "outputs": [],
   "source": [
    "def get_port_details(tmp_link):\n",
    "    rate_site.get(tmp_link)\n",
    "    td = rate_site.find_elements_by_tag_name('td')\n",
    "\n",
    "    title = []\n",
    "    element = []\n",
    "    counter = 0\n",
    "    while counter < len(td) - 1:\n",
    "        tmp1 = td[counter].text\n",
    "        tmp2 = td[counter + 1].text\n",
    "        if \":\" in tmp1:\n",
    "            title.append(tmp1)\n",
    "            element.append(tmp2)\n",
    "            counter = counter + 2\n",
    "        else:\n",
    "            counter = counter + 1\n",
    "    df = pd.DataFrame()\n",
    "    for i in range(len(title)):\n",
    "        df[title[i]] = [element[i]]\n",
    "    return df"
   ]
  },
  {
   "cell_type": "code",
   "execution_count": 42,
   "metadata": {
    "collapsed": true
   },
   "outputs": [],
   "source": [
    "counter = 0\n",
    "max_len = len(summary_df)"
   ]
  },
  {
   "cell_type": "markdown",
   "metadata": {},
   "source": [
    "### Get the port details"
   ]
  },
  {
   "cell_type": "code",
   "execution_count": 47,
   "metadata": {},
   "outputs": [
    {
     "name": "stdout",
     "output_type": "stream",
     "text": [
      "3524 out of 3525\n"
     ]
    }
   ],
   "source": [
    "while counter < max_len:\n",
    "    clear_output()\n",
    "    print(\"{} out of {}\".format(counter, max_len))\n",
    "    tmp_link = summary_df['Port Link'].iloc[counter]\n",
    "    rate_site.get(tmp_link)\n",
    "    time.sleep(1)\n",
    "    tmp_df = get_port_details(tmp_link)\n",
    "    tmp_df.to_sql('port_detail', con=conn, if_exists='append', index=False)\n",
    "    counter = counter + 1"
   ]
  },
  {
   "cell_type": "code",
   "execution_count": null,
   "metadata": {
    "collapsed": true
   },
   "outputs": [],
   "source": []
  }
 ],
 "metadata": {
  "anaconda-cloud": {},
  "kernelspec": {
   "display_name": "Python 3",
   "language": "python",
   "name": "python3"
  },
  "language_info": {
   "codemirror_mode": {
    "name": "ipython",
    "version": 3
   },
   "file_extension": ".py",
   "mimetype": "text/x-python",
   "name": "python",
   "nbconvert_exporter": "python",
   "pygments_lexer": "ipython3",
   "version": "3.6.3"
  }
 },
 "nbformat": 4,
 "nbformat_minor": 1
}
