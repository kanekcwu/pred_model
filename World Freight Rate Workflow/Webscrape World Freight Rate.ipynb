{
 "cells": [
  {
   "cell_type": "code",
   "execution_count": 1,
   "metadata": {},
   "outputs": [],
   "source": [
    "# load the library\n",
    "import numpy as np\n",
    "import pandas as pd\n",
    "from tqdm import tqdm\n",
    "\n",
    "# load selenium\n",
    "import selenium\n",
    "from selenium import webdriver\n",
    "from selenium.webdriver.common.keys import Keys\n",
    "import pyperclip\n",
    "from IPython.display import clear_output\n",
    "import sqlite3\n",
    "from pandas.io import sql\n",
    "import datetime"
   ]
  },
  {
   "cell_type": "code",
   "execution_count": 2,
   "metadata": {},
   "outputs": [],
   "source": [
    "# handling page refresh\n",
    "from selenium.webdriver.support.ui import WebDriverWait\n",
    "from selenium.webdriver.support import expected_conditions as EC\n",
    "from selenium.webdriver.common.by import By\n",
    "from selenium.common.exceptions import TimeoutException"
   ]
  },
  {
   "cell_type": "code",
   "execution_count": 48,
   "metadata": {},
   "outputs": [],
   "source": [
    "# Set name of your SQLite database\n",
    "db_name = \"web_freight_data\"\n",
    "\n",
    "sqlite_db = db_name + '.sqlite'\n",
    "conn = sqlite3.connect(sqlite_db)\n",
    "c = conn.cursor()"
   ]
  },
  {
   "cell_type": "code",
   "execution_count": 4,
   "metadata": {},
   "outputs": [],
   "source": [
    "# load the library\n",
    "import requests\n",
    "import bs4\n",
    "from bs4 import BeautifulSoup\n",
    "import numpy as np\n",
    "import requests\n",
    "import pandas as pd\n",
    "from tqdm import tqdm\n",
    "pd.set_option('max_colwidth',1000)\n",
    "import time as time_\n",
    "from sklearn.externals import joblib"
   ]
  },
  {
   "cell_type": "code",
   "execution_count": 19,
   "metadata": {},
   "outputs": [],
   "source": [
    "# download chromedriver.exe and save to a local drive locaiton:\n",
    "location_of_chromedriver = \"Driver/chromedriver.exe\"\n",
    "site_url = \"http://www.worldfreightrates.com/en/freight\""
   ]
  },
  {
   "cell_type": "code",
   "execution_count": 21,
   "metadata": {},
   "outputs": [],
   "source": [
    "# set browser and go to google maps\n",
    "def init_browser(URL = 'https://www.google.com.hk/maps'):\n",
    "    browser = webdriver.Chrome(location_of_chromedriver)\n",
    "    browser.get(URL)\n",
    "    return browser"
   ]
  },
  {
   "cell_type": "code",
   "execution_count": 7,
   "metadata": {},
   "outputs": [],
   "source": [
    "def page_wait(look_for, max_wait_time = 20):\n",
    "    success = False\n",
    "    counter = 0\n",
    "    while success == False:\n",
    "        counter = counter + 1\n",
    "        time_.sleep(1)\n",
    "        tmp_texts = rate_site.find_elements_by_class_name(look_for)\n",
    "        for i in range(len(tmp_texts)):\n",
    "            try:\n",
    "                tmp_text = tmp_texts[i].text\n",
    "                if tmp_text != '':\n",
    "                    success = True\n",
    "            except:\n",
    "                pass\n",
    "        if counter > max_wait_time:\n",
    "            success = True\n",
    "    return counter"
   ]
  },
  {
   "cell_type": "code",
   "execution_count": 8,
   "metadata": {},
   "outputs": [],
   "source": [
    "def handle_output(output_text):\n",
    "    # split elements of details\n",
    "    tmp = output_text\n",
    "    detail_ele = tmp.split('\\n')\n",
    "    dist = detail_ele[0]\n",
    "    times = detail_ele[-1]\n",
    "    \n",
    "    if dist.find('km') != -1:\n",
    "        mile = dist[:dist.find('mi')]\n",
    "        km = dist[dist.find('mi')+3:]\n",
    "        mile = mile.strip(\" \")\n",
    "        mile = float(mile)\n",
    "        km = km.strip('(')\n",
    "        km = km.strip(')')\n",
    "        km = km.strip(\" \")\n",
    "        km = km.strip('km')\n",
    "        km = km.strip(' ')\n",
    "        km = float(km)\n",
    "    #     print(mile)\n",
    "    #     print(km)\n",
    "    else:\n",
    "        mile = 0\n",
    "        km = 0\n",
    "    \n",
    "    if times.find('Transit Time:') != -1:\n",
    "        duration = times.strip(' ')\n",
    "        duration = duration.replace('Transit Time: ','')\n",
    "        duration = duration.split(' ')\n",
    "        time = duration[0]\n",
    "        time_uom = duration[1]\n",
    "    else:\n",
    "        time = 0\n",
    "        time_uom = \"\"\n",
    "    \n",
    "    return mile, km, time, time_uom"
   ]
  },
  {
   "cell_type": "code",
   "execution_count": 32,
   "metadata": {},
   "outputs": [],
   "source": [
    "def search_route(orig_port, dest_port, mode, equip, wait_time = 30):\n",
    "#     orig_port = 'Hong Kong'\n",
    "#     dest_port = 'Tokyo'\n",
    "#     wait_time = 30\n",
    "#     mode = TRUCK # Air # Ocean\n",
    "#     equip = '20FT'\n",
    "\n",
    "    # apply search\n",
    "    if mode == 'TRUCK':\n",
    "        ele_name = 'fromCity'\n",
    "    else:\n",
    "        ele_name = 'fromName{}'.format(mode)\n",
    "    orig_input = rate_site.find_element_by_id(ele_name)\n",
    "    orig_input.clear()\n",
    "    orig_input.send_keys(orig_port)\n",
    "    page_wait('ui-menu-item', wait_time)\n",
    "    orig_input.send_keys(Keys.DOWN)\n",
    "    orig_input.send_keys(Keys.ENTER)\n",
    "    \n",
    "    if mode == 'TRUCK':\n",
    "        ele_name = 'toCity'\n",
    "    else:\n",
    "        ele_name = 'toName{}'.format(mode)\n",
    "    dest_input = rate_site.find_element_by_id(ele_name)\n",
    "    dest_input.clear()\n",
    "    dest_input.send_keys(dest_port)\n",
    "    page_wait('ui-menu-item', wait_time)\n",
    "    dest_input.send_keys(Keys.DOWN)\n",
    "    dest_input.send_keys(Keys.ENTER)\n",
    "\n",
    "    w_count = 0\n",
    "    success = False\n",
    "    keep = -1\n",
    "    time_.sleep(1)\n",
    "    while success != True:\n",
    "        search_btn = rate_site.find_elements_by_class_name('submit')\n",
    "        for i in range(len(search_btn)):\n",
    "            if search_btn[i].text.upper() == \"GET RATE\":\n",
    "                success = True\n",
    "                keep = i\n",
    "        if w_count > wait_time:\n",
    "            success = True\n",
    "        w_count = w_count + 1\n",
    "        time_.sleep(1)\n",
    "    time_.sleep(1)\n",
    "    search_btn[keep].click()\n",
    "\n",
    "    page_wait('result', wait_time)\n",
    "    try:\n",
    "        segment_summary = rate_site.find_elements_by_class_name('result')\n",
    "        result_rate = segment_summary[-1].text\n",
    "    except:\n",
    "        result_rate = 0\n",
    "    orig_txt = orig_input.get_attribute(\"value\")\n",
    "    dest_txt = dest_input.get_attribute(\"value\")\n",
    "\n",
    "\n",
    "    # setup return sets\n",
    "    orig_set = orig_port\n",
    "    dest_set = dest_port\n",
    "    price_set = result_rate\n",
    "    mode_set = mode\n",
    "    equip_set = equip\n",
    "    # build dataframe\n",
    "    summary_df = pd.DataFrame()\n",
    "    summary_df['Orig'] = [orig_set]\n",
    "    summary_df['Dest'] = dest_set\n",
    "    summary_df['Orig_txt'] = orig_txt\n",
    "    summary_df['Dest_txt'] = dest_txt\n",
    "    summary_df['Mode'] = mode_set\n",
    "    summary_df['Equipment'] = equip_set\n",
    "    summary_df['Rate'] = result_rate \n",
    "    now = datetime.datetime.now()\n",
    "    now = now.strftime(\"%Y-%m-%d %H:%M\")\n",
    "    summary_df['extraction_time'] = now\n",
    "\n",
    "#     summary_df.to_sql('world_freight_rate', con=conn, index=False, if_exists='append')\n",
    "\n",
    "    return summary_df"
   ]
  },
  {
   "cell_type": "code",
   "execution_count": 22,
   "metadata": {},
   "outputs": [],
   "source": [
    "rate_site = init_browser(site_url)"
   ]
  },
  {
   "cell_type": "code",
   "execution_count": 11,
   "metadata": {},
   "outputs": [],
   "source": [
    "# if_name = rate_site.find_element_by_tag_name(\"iframe\")\n",
    "# rate_site.switch_to_frame(if_name)\n",
    "\n",
    "# switch back to main page\n",
    "# rate_site.switch_to_default_content()"
   ]
  },
  {
   "cell_type": "code",
   "execution_count": 37,
   "metadata": {},
   "outputs": [],
   "source": [
    "counter = 0"
   ]
  },
  {
   "cell_type": "code",
   "execution_count": 43,
   "metadata": {},
   "outputs": [],
   "source": [
    "freight_lanes = pd.read_excel('freight_lanes.xlsx')"
   ]
  },
  {
   "cell_type": "code",
   "execution_count": 44,
   "metadata": {},
   "outputs": [
    {
     "data": {
      "text/plain": [
       "30"
      ]
     },
     "execution_count": 44,
     "metadata": {},
     "output_type": "execute_result"
    }
   ],
   "source": [
    "len(freight_lanes)"
   ]
  },
  {
   "cell_type": "code",
   "execution_count": 52,
   "metadata": {},
   "outputs": [
    {
     "data": {
      "text/html": [
       "<div>\n",
       "<style scoped>\n",
       "    .dataframe tbody tr th:only-of-type {\n",
       "        vertical-align: middle;\n",
       "    }\n",
       "\n",
       "    .dataframe tbody tr th {\n",
       "        vertical-align: top;\n",
       "    }\n",
       "\n",
       "    .dataframe thead th {\n",
       "        text-align: right;\n",
       "    }\n",
       "</style>\n",
       "<table border=\"1\" class=\"dataframe\">\n",
       "  <thead>\n",
       "    <tr style=\"text-align: right;\">\n",
       "      <th></th>\n",
       "      <th>Orig</th>\n",
       "      <th>Dest</th>\n",
       "      <th>Orig_txt</th>\n",
       "      <th>Dest_txt</th>\n",
       "      <th>Mode</th>\n",
       "      <th>Equipment</th>\n",
       "      <th>Rate</th>\n",
       "      <th>extraction_time</th>\n",
       "    </tr>\n",
       "  </thead>\n",
       "  <tbody>\n",
       "    <tr>\n",
       "      <th>0</th>\n",
       "      <td>YANTIAN</td>\n",
       "      <td>SOUTHAMPTON</td>\n",
       "      <td>Yantian, China</td>\n",
       "      <td>Southampton, United Kingdom</td>\n",
       "      <td>Ocean</td>\n",
       "      <td>40FT</td>\n",
       "      <td>$1,907.63 - $2,108.43</td>\n",
       "      <td>2018-06-24 10:51</td>\n",
       "    </tr>\n",
       "  </tbody>\n",
       "</table>\n",
       "</div>"
      ],
      "text/plain": [
       "      Orig         Dest        Orig_txt                     Dest_txt   Mode  \\\n",
       "0  YANTIAN  SOUTHAMPTON  Yantian, China  Southampton, United Kingdom  Ocean   \n",
       "\n",
       "  Equipment                   Rate   extraction_time  \n",
       "0      40FT  $1,907.63 - $2,108.43  2018-06-24 10:51  "
      ]
     },
     "execution_count": 52,
     "metadata": {},
     "output_type": "execute_result"
    }
   ],
   "source": [
    "search_route(orig_port, dest_port, mode = 'Ocean', equip = '40FT')"
   ]
  },
  {
   "cell_type": "code",
   "execution_count": null,
   "metadata": {},
   "outputs": [
    {
     "name": "stdout",
     "output_type": "stream",
     "text": [
      "21\n"
     ]
    }
   ],
   "source": [
    "# Run while loop to get rates\n",
    "lanes_df = pd.DataFrame()\n",
    "\n",
    "while counter < len(freight_lanes):\n",
    "\n",
    "# for i in tqdm(range(len(freight_lanes))):\n",
    "    print(counter)\n",
    "    i = counter\n",
    "    orig_port = freight_lanes['ORIG_PORT'].iloc[i]\n",
    "    dest_port = freight_lanes['DEST_PORT'].iloc[i]\n",
    "    summary_df = search_route(orig_port, dest_port, mode = 'Ocean', equip = '40FT')\n",
    "    \n",
    "    lanes_df = lanes_df.append(summary_df)\n",
    "    counter = counter + 1\n",
    "    clear_output()\n",
    "print(counter)"
   ]
  },
  {
   "cell_type": "code",
   "execution_count": 39,
   "metadata": {},
   "outputs": [
    {
     "data": {
      "text/html": [
       "<div>\n",
       "<style scoped>\n",
       "    .dataframe tbody tr th:only-of-type {\n",
       "        vertical-align: middle;\n",
       "    }\n",
       "\n",
       "    .dataframe tbody tr th {\n",
       "        vertical-align: top;\n",
       "    }\n",
       "\n",
       "    .dataframe thead th {\n",
       "        text-align: right;\n",
       "    }\n",
       "</style>\n",
       "<table border=\"1\" class=\"dataframe\">\n",
       "  <thead>\n",
       "    <tr style=\"text-align: right;\">\n",
       "      <th></th>\n",
       "      <th>Orig</th>\n",
       "      <th>Dest</th>\n",
       "      <th>Orig_txt</th>\n",
       "      <th>Dest_txt</th>\n",
       "      <th>Mode</th>\n",
       "      <th>Equipment</th>\n",
       "      <th>Rate</th>\n",
       "      <th>extraction_time</th>\n",
       "    </tr>\n",
       "  </thead>\n",
       "  <tbody>\n",
       "    <tr>\n",
       "      <th>0</th>\n",
       "      <td>Jakarta</td>\n",
       "      <td>Hong Kong</td>\n",
       "      <td>Jakarta, Indonesia</td>\n",
       "      <td>Kwai Chung, Hong Kong</td>\n",
       "      <td>Ocean</td>\n",
       "      <td>40FT</td>\n",
       "      <td>$447.19 - $494.26</td>\n",
       "      <td>2018-06-24 10:37</td>\n",
       "    </tr>\n",
       "  </tbody>\n",
       "</table>\n",
       "</div>"
      ],
      "text/plain": [
       "      Orig       Dest            Orig_txt               Dest_txt   Mode  \\\n",
       "0  Jakarta  Hong Kong  Jakarta, Indonesia  Kwai Chung, Hong Kong  Ocean   \n",
       "\n",
       "  Equipment               Rate   extraction_time  \n",
       "0      40FT  $447.19 - $494.26  2018-06-24 10:37  "
      ]
     },
     "execution_count": 39,
     "metadata": {},
     "output_type": "execute_result"
    }
   ],
   "source": [
    "lanes_df.to_excel('lane_cost.xlsx',index=False)"
   ]
  },
  {
   "cell_type": "code",
   "execution_count": 27,
   "metadata": {
    "collapsed": true
   },
   "outputs": [],
   "source": [
    "web_freight_rates = pd.read_sql('select * from world_freight_rate', con = conn)\n",
    "web_freight_rates.drop_duplicates(inplace=True)\n",
    "web_freight_rates.to_csv('lanes_summary.csv', index=False, encoding='utf_8')"
   ]
  },
  {
   "cell_type": "code",
   "execution_count": null,
   "metadata": {
    "collapsed": true
   },
   "outputs": [],
   "source": [
    "rate_site.close()\n",
    "# conn.close()"
   ]
  },
  {
   "cell_type": "code",
   "execution_count": null,
   "metadata": {
    "collapsed": true
   },
   "outputs": [],
   "source": []
  }
 ],
 "metadata": {
  "anaconda-cloud": {},
  "kernelspec": {
   "display_name": "Python 3",
   "language": "python",
   "name": "python3"
  },
  "language_info": {
   "codemirror_mode": {
    "name": "ipython",
    "version": 3
   },
   "file_extension": ".py",
   "mimetype": "text/x-python",
   "name": "python",
   "nbconvert_exporter": "python",
   "pygments_lexer": "ipython3",
   "version": "3.6.4"
  }
 },
 "nbformat": 4,
 "nbformat_minor": 1
}
