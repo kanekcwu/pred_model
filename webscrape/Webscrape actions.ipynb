{
 "cells": [
  {
   "cell_type": "code",
   "execution_count": 1,
   "metadata": {},
   "outputs": [],
   "source": [
    "# load the library\n",
    "import numpy as np\n",
    "import pandas as pd\n",
    "from tqdm import tqdm\n",
    "\n",
    "# load selenium\n",
    "import selenium\n",
    "from selenium import webdriver\n",
    "from selenium.webdriver.common.keys import Keys\n",
    "import pyperclip\n",
    "from IPython.display import clear_output\n",
    "import sqlite3\n",
    "from pandas.io import sql\n",
    "import datetime"
   ]
  },
  {
   "cell_type": "code",
   "execution_count": 2,
   "metadata": {},
   "outputs": [],
   "source": [
    "# handling page refresh\n",
    "from selenium.webdriver.support.ui import WebDriverWait\n",
    "from selenium.webdriver.support import expected_conditions as EC\n",
    "from selenium.webdriver.common.by import By\n",
    "from selenium.common.exceptions import TimeoutException"
   ]
  },
  {
   "cell_type": "code",
   "execution_count": 3,
   "metadata": {},
   "outputs": [],
   "source": [
    "# Set name of your SQLite database\n",
    "db_name = \"freight\"\n",
    "\n",
    "sqlite_db = db_name + '.sqlite'\n",
    "conn = sqlite3.connect(sqlite_db)\n",
    "c = conn.cursor()"
   ]
  },
  {
   "cell_type": "code",
   "execution_count": 4,
   "metadata": {},
   "outputs": [],
   "source": [
    "lane_header = pd.read_excel('Lane Title.xlsx')\n",
    "lane_header = list(lane_header.columns)"
   ]
  },
  {
   "cell_type": "code",
   "execution_count": 5,
   "metadata": {},
   "outputs": [],
   "source": [
    "# load the library\n",
    "import requests\n",
    "import bs4\n",
    "from bs4 import BeautifulSoup\n",
    "import numpy as np\n",
    "import requests\n",
    "import pandas as pd\n",
    "from tqdm import tqdm\n",
    "pd.set_option('max_colwidth',1000)\n",
    "import time\n",
    "from sklearn.externals import joblib"
   ]
  },
  {
   "cell_type": "code",
   "execution_count": 6,
   "metadata": {},
   "outputs": [],
   "source": [
    "# download chromedriver.exe and save to a local drive locaiton:\n",
    "location_of_chromedriver = \"Driver/chromedriver.exe\"\n",
    "site_url = \"https://www.bigschedules.com/routes\""
   ]
  },
  {
   "cell_type": "code",
   "execution_count": 7,
   "metadata": {},
   "outputs": [],
   "source": [
    "# set browser and go to google maps\n",
    "def init_browser(URL = 'https://www.google.com.hk/maps'):\n",
    "    browser = webdriver.Chrome(location_of_chromedriver)\n",
    "    browser.get(URL)\n",
    "    return browser"
   ]
  },
  {
   "cell_type": "code",
   "execution_count": 8,
   "metadata": {},
   "outputs": [],
   "source": [
    "# open table management\n",
    "\n",
    "def get_tables(otm, row_no=6):\n",
    "    time.sleep(5)\n",
    "    html = otm.page_source\n",
    "    data_df_day = pd.DataFrame()\n",
    "    data_df_direct = pd.DataFrame()\n",
    "    \n",
    "    bs=BeautifulSoup(html, \"lxml\")\n",
    "    rows = bs.find_all('tr')\n",
    "    tbl_day = []\n",
    "    tbl_direct = []\n",
    "    tbl_result = []\n",
    "    for row in rows:\n",
    "        cols=row.find_all('td')\n",
    "        colstrip=[x.text.strip() for x in cols]\n",
    "    #     print(len(colstrip))\n",
    "        tbl_result.append(colstrip)\n",
    "    \n",
    "#     get_lst = []\n",
    "    for i in range(len(tbl_result)):\n",
    "        if len(tbl_result[i]) == row_no:\n",
    "            if \"day\" in tbl_result[i][0]:\n",
    "                tbl_day.append(tbl_result[i])\n",
    "                tbl_direct.append(tbl_result[i+1])\n",
    "    \n",
    "    df_tmp_day = pd.DataFrame(tbl_day)\n",
    "    df_tmp_direct = pd.DataFrame(tbl_direct)\n",
    "    \n",
    "    data_df_day = data_df_day.append(df_tmp_day)\n",
    "    data_df_direct = data_df_direct.append(df_tmp_direct)\n",
    "    \n",
    "    result = pd.concat([data_df_day, data_df_direct], axis=1, join='inner')\n",
    "    \n",
    "    return result"
   ]
  },
  {
   "cell_type": "code",
   "execution_count": 9,
   "metadata": {},
   "outputs": [],
   "source": [
    "def keep_trying(function_loop = get_tables, max_run=10):\n",
    "    counter = 0\n",
    "    found_it = False\n",
    "    while found_it == False and counter < max_run:\n",
    "        try:\n",
    "            function_loop()\n",
    "            found_it = True\n",
    "        except:\n",
    "            time.sleep(2)\n",
    "        counter = counter + 1"
   ]
  },
  {
   "cell_type": "code",
   "execution_count": 10,
   "metadata": {},
   "outputs": [],
   "source": [
    "def scrape_actions(orig_in_txt = 'Shanghai', dest_in_txt = 'Southampton'):\n",
    "\n",
    "    rate_site.refresh()\n",
    "\n",
    "\n",
    "    rate_site.switch_to_default_content()\n",
    "#     iframe = rate_site.find_elements_by_tag_name('iframe')\n",
    "#     rate_site.switch_to_frame(iframe[0])\n",
    "\n",
    "    time.sleep(1)\n",
    "    orig_txt = rate_site.find_elements_by_id('targetOriginal')\n",
    "    dest_txt = rate_site.find_elements_by_id('targetDestination')\n",
    "\n",
    "\n",
    "    orig_txt[0].send_keys(orig_in_txt)\n",
    "    time.sleep(3)\n",
    "    orig_txt[0].send_keys(Keys.RETURN)\n",
    "\n",
    "    dest_txt[0].clear()\n",
    "    dest_txt[0].send_keys(dest_in_txt)\n",
    "    time.sleep(3)\n",
    "    dest_txt[0].send_keys(Keys.RETURN)\n",
    "    \n",
    "    search_btn = rate_site.find_element_by_id('main_a_search')\n",
    "    search_btn.click()\n",
    "\n",
    "    time.sleep(5)\n",
    "    rate_tables = get_tables(rate_site)\n",
    "    \n",
    "\n",
    "    return rate_tables"
   ]
  },
  {
   "cell_type": "code",
   "execution_count": 11,
   "metadata": {},
   "outputs": [],
   "source": [
    "rate_site = init_browser(site_url)"
   ]
  },
  {
   "cell_type": "code",
   "execution_count": 28,
   "metadata": {},
   "outputs": [],
   "source": [
    "freight_lanes = pd.read_excel('country_list.xlsx')"
   ]
  },
  {
   "cell_type": "code",
   "execution_count": 29,
   "metadata": {},
   "outputs": [
    {
     "data": {
      "text/plain": [
       "(3, 2)"
      ]
     },
     "execution_count": 29,
     "metadata": {},
     "output_type": "execute_result"
    }
   ],
   "source": [
    "freight_lanes.shape"
   ]
  },
  {
   "cell_type": "code",
   "execution_count": 30,
   "metadata": {},
   "outputs": [
    {
     "name": "stderr",
     "output_type": "stream",
     "text": [
      "  0%|                                                                                            | 0/3 [00:00<?, ?it/s]C:\\Users\\bryantlee\\AppData\\Local\\Continuum\\anaconda3\\lib\\site-packages\\pandas\\core\\generic.py:1534: UserWarning: The spaces in these column names will not be changed. In pandas versions < 0.14, spaces were converted to underscores.\n",
      "  chunksize=chunksize, dtype=dtype)\n",
      "100%|████████████████████████████████████████████████████████████████████████████████████| 3/3 [01:05<00:00, 21.94s/it]\n"
     ]
    }
   ],
   "source": [
    "lane_result = pd.DataFrame()\n",
    "for i in tqdm(range(len(freight_lanes))):\n",
    "    orig_in_txt = freight_lanes['Orig'].iloc[i]\n",
    "    dest_in_txt = freight_lanes['Dest'].iloc[i]\n",
    "    \n",
    "    try:\n",
    "        lane_tmp = scrape_actions(orig_in_txt, dest_in_txt)\n",
    "        lane_result = lane_result.append(lane_tmp)\n",
    "        lane_tmp.columns = lane_header\n",
    "        lane_tmp.to_sql('lanes', index=False, if_exists='append' , con=conn)\n",
    "    except:\n",
    "        pass"
   ]
  },
  {
   "cell_type": "code",
   "execution_count": 27,
   "metadata": {},
   "outputs": [],
   "source": [
    "lane_result = pd.read_excel('lane_result.xlsx')"
   ]
  },
  {
   "cell_type": "code",
   "execution_count": 32,
   "metadata": {},
   "outputs": [],
   "source": [
    "lane_result = pd.read_sql('select * from lanes', con=conn)"
   ]
  },
  {
   "cell_type": "code",
   "execution_count": 37,
   "metadata": {},
   "outputs": [
    {
     "data": {
      "text/plain": [
       "(1228, 12)"
      ]
     },
     "execution_count": 37,
     "metadata": {},
     "output_type": "execute_result"
    }
   ],
   "source": [
    "lane_result.shape"
   ]
  },
  {
   "cell_type": "code",
   "execution_count": 34,
   "metadata": {},
   "outputs": [],
   "source": [
    "lane_result.drop_duplicates(inplace=True)"
   ]
  },
  {
   "cell_type": "code",
   "execution_count": 36,
   "metadata": {},
   "outputs": [
    {
     "name": "stderr",
     "output_type": "stream",
     "text": [
      "C:\\Users\\bryantlee\\AppData\\Local\\Continuum\\anaconda3\\lib\\site-packages\\pandas\\core\\generic.py:1534: UserWarning: The spaces in these column names will not be changed. In pandas versions < 0.14, spaces were converted to underscores.\n",
      "  chunksize=chunksize, dtype=dtype)\n"
     ]
    }
   ],
   "source": [
    "lane_result.columns = lane_header\n",
    "# lane_result.to_sql('lanes', index=False, if_exists='replace' , con=conn)"
   ]
  },
  {
   "cell_type": "code",
   "execution_count": null,
   "metadata": {},
   "outputs": [],
   "source": []
  },
  {
   "cell_type": "code",
   "execution_count": 38,
   "metadata": {},
   "outputs": [],
   "source": [
    "lane_result.to_excel('lane_result.xlsx', index=False)"
   ]
  },
  {
   "cell_type": "code",
   "execution_count": null,
   "metadata": {},
   "outputs": [],
   "source": []
  },
  {
   "cell_type": "code",
   "execution_count": null,
   "metadata": {},
   "outputs": [],
   "source": []
  },
  {
   "cell_type": "code",
   "execution_count": 86,
   "metadata": {},
   "outputs": [],
   "source": [
    "conn.close()"
   ]
  },
  {
   "cell_type": "code",
   "execution_count": null,
   "metadata": {},
   "outputs": [],
   "source": []
  }
 ],
 "metadata": {
  "anaconda-cloud": {},
  "kernelspec": {
   "display_name": "Python 3",
   "language": "python",
   "name": "python3"
  },
  "language_info": {
   "codemirror_mode": {
    "name": "ipython",
    "version": 3
   },
   "file_extension": ".py",
   "mimetype": "text/x-python",
   "name": "python",
   "nbconvert_exporter": "python",
   "pygments_lexer": "ipython3",
   "version": "3.6.4"
  }
 },
 "nbformat": 4,
 "nbformat_minor": 1
}
