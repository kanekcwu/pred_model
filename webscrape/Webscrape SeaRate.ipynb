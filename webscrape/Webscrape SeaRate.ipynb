{
 "cells": [
  {
   "cell_type": "code",
   "execution_count": 1,
   "metadata": {},
   "outputs": [],
   "source": [
    "# load the library\n",
    "import numpy as np\n",
    "import pandas as pd\n",
    "from tqdm import tqdm\n",
    "\n",
    "# load selenium\n",
    "import selenium\n",
    "from selenium import webdriver\n",
    "from selenium.webdriver.common.keys import Keys\n",
    "import pyperclip\n",
    "from IPython.display import clear_output\n",
    "import sqlite3\n",
    "from pandas.io import sql\n",
    "import datetime"
   ]
  },
  {
   "cell_type": "code",
   "execution_count": 2,
   "metadata": {},
   "outputs": [],
   "source": [
    "# handling page refresh\n",
    "from selenium.webdriver.support.ui import WebDriverWait\n",
    "from selenium.webdriver.support import expected_conditions as EC\n",
    "from selenium.webdriver.common.by import By\n",
    "from selenium.common.exceptions import TimeoutException"
   ]
  },
  {
   "cell_type": "code",
   "execution_count": 3,
   "metadata": {},
   "outputs": [],
   "source": [
    "# Set name of your SQLite database\n",
    "db_name = \"freight\"\n",
    "\n",
    "sqlite_db = db_name + '.sqlite'\n",
    "conn = sqlite3.connect(sqlite_db)\n",
    "c = conn.cursor()"
   ]
  },
  {
   "cell_type": "code",
   "execution_count": 4,
   "metadata": {},
   "outputs": [],
   "source": [
    "# load the library\n",
    "import requests\n",
    "import bs4\n",
    "from bs4 import BeautifulSoup\n",
    "import numpy as np\n",
    "import requests\n",
    "import pandas as pd\n",
    "from tqdm import tqdm\n",
    "pd.set_option('max_colwidth',1000)\n",
    "import time\n",
    "from sklearn.externals import joblib"
   ]
  },
  {
   "cell_type": "code",
   "execution_count": 6,
   "metadata": {},
   "outputs": [],
   "source": [
    "freight_lanes = pd.read_excel('freight_lanes.xlsx')"
   ]
  },
  {
   "cell_type": "code",
   "execution_count": 7,
   "metadata": {},
   "outputs": [],
   "source": [
    "# download chromedriver.exe and save to a local drive locaiton:\n",
    "location_of_chromedriver = \"Driver/chromedriver.exe\"\n",
    "site_url = \"https://www.searates.com/reference/portdistance\""
   ]
  },
  {
   "cell_type": "code",
   "execution_count": 8,
   "metadata": {},
   "outputs": [],
   "source": [
    "# set browser and go to google maps\n",
    "def init_browser(URL = 'https://www.google.com.hk/maps'):\n",
    "    browser = webdriver.Chrome(location_of_chromedriver)\n",
    "    browser.get(URL)\n",
    "    return browser"
   ]
  },
  {
   "cell_type": "code",
   "execution_count": 9,
   "metadata": {},
   "outputs": [],
   "source": [
    "rate_site = init_browser(site_url)"
   ]
  },
  {
   "cell_type": "code",
   "execution_count": 10,
   "metadata": {},
   "outputs": [],
   "source": [
    "if_name = rate_site.find_element_by_tag_name(\"iframe\")\n",
    "rate_site.switch_to_frame(if_name)\n",
    "\n",
    "# switch back to main page\n",
    "# rate_site.switch_to_default_content()"
   ]
  },
  {
   "cell_type": "code",
   "execution_count": 11,
   "metadata": {},
   "outputs": [],
   "source": [
    "def page_wait(look_for, max_wait_time = 20):\n",
    "    success = False\n",
    "    counter = 0\n",
    "    while success == False:\n",
    "        counter = counter + 1\n",
    "        time.sleep(1)\n",
    "        tmp_texts = rate_site.find_elements_by_class_name(look_for)\n",
    "        for i in range(len(tmp_texts)):\n",
    "            try:\n",
    "                tmp_text = tmp_texts[i].text\n",
    "                if tmp_text != '':\n",
    "                    success = True\n",
    "            except:\n",
    "                pass\n",
    "        if counter > max_wait_time:\n",
    "            success = True\n",
    "    return counter"
   ]
  },
  {
   "cell_type": "code",
   "execution_count": 12,
   "metadata": {},
   "outputs": [],
   "source": [
    "def handle_output(output_text):\n",
    "    tmp = output_text\n",
    "    dist = tmp[:tmp.find('\\n')]\n",
    "    times = tmp[tmp.find('\\n')+1:]\n",
    "\n",
    "\n",
    "    mile = dist[:dist.find('mi')]\n",
    "    km = dist[dist.find('mi')+3:]\n",
    "    mile = mile.strip(\" \")\n",
    "    mile = float(mile)\n",
    "    km = km.strip('(')\n",
    "    km = km.strip(')')\n",
    "    km = km.strip(\" \")\n",
    "    km = km.strip('km')\n",
    "    km = km.strip(' ')\n",
    "    km = float(km)\n",
    "#     print(mile)\n",
    "#     print(km)\n",
    "\n",
    "    \n",
    "    days = times[:times.find('day')]\n",
    "    days = days.strip(' ')\n",
    "    days = days.strip('Transit Time: ')\n",
    "    if days == '':\n",
    "        days = 1\n",
    "    else:\n",
    "        days = float(days)\n",
    "\n",
    "#     print(days)\n",
    "\n",
    "    knots = times[times.find('day')+5:]\n",
    "    knots = knots.strip(' ')\n",
    "    knots = knots.strip('(')\n",
    "    knots = knots.strip(')')\n",
    "    knots = knots.strip('knots')\n",
    "    knots = knots.strip(' ')\n",
    "    if knots == '':\n",
    "        knots = 0\n",
    "    else:\n",
    "        knots = float(knots)\n",
    "#     print(knots)\n",
    "    \n",
    "    return mile, km, days, knots"
   ]
  },
  {
   "cell_type": "code",
   "execution_count": 25,
   "metadata": {},
   "outputs": [],
   "source": [
    "def search_route(orig_port, dest_port, wait_time = 10):\n",
    "    orig_input = rate_site.find_element_by_id('place_d')\n",
    "    orig_input.clear()\n",
    "    orig_input.send_keys(orig_port)\n",
    "    page_wait('ui-menu-item-wrapper', wait_time)\n",
    "    orig_input.send_keys(Keys.RETURN)\n",
    "    dest_input = rate_site.find_element_by_id('place_g')\n",
    "    dest_input.clear()\n",
    "    dest_input.send_keys(dest_port)\n",
    "    page_wait('ui-menu-item-wrapper', wait_time)\n",
    "    dest_input.send_keys(Keys.RETURN)\n",
    "    search_btn = rate_site.find_elements_by_id('search_button')\n",
    "    search_btn[0].click()\n",
    "    page_wait('m-D', wait_time)\n",
    "    try:\n",
    "        place_name = rate_site.find_elements_by_class_name('name')\n",
    "        orig_name = place_name[0].text\n",
    "        dest_name = place_name[-1].text\n",
    "        \n",
    "        full_trip = []\n",
    "        for i in range(len(place_name)):\n",
    "            full_trip.append(place_name[i].text)\n",
    "        \n",
    "    except:\n",
    "        orig_name = 'N/A'\n",
    "        dest_name = 'N/A'\n",
    "        full_trip = []\n",
    "    try:\n",
    "        inner_charges = rate_site.find_elements_by_class_name('inner-charges')\n",
    "        charge = []\n",
    "        for i in inner_charges:\n",
    "            tmp_charge = i.text\n",
    "            charge.append(tmp_charge)\n",
    "        orig_cost = charge[0]\n",
    "        freight_cost = charge[1]\n",
    "        dest_cost = charge[2]\n",
    "    except:\n",
    "        orig_cost = 'N/A'\n",
    "        freight_cost = 'N/A'\n",
    "        dest_cost = 'N/A'        \n",
    "\n",
    "    try:\n",
    "        \n",
    "        details = rate_site.find_elements_by_class_name('events')\n",
    "        detail = []\n",
    "        mile = 0\n",
    "        km = 0\n",
    "        days = 0\n",
    "        knots = 0\n",
    "        for i in range(len(details)):\n",
    "            tmp_details =  details[i].text\n",
    "            if tmp_details != '':\n",
    "                detail.append(tmp_details)\n",
    "                tmp_mile, tmp_km, tmp_days, tmp_knots = handle_output(tmp_details)\n",
    "                mile = mile + tmp_mile\n",
    "                km = km + tmp_km\n",
    "                days = days + tmp_days\n",
    "                knots = np.max([knots,tmp_knots])\n",
    "\n",
    "    except:\n",
    "        mile = 0\n",
    "        km = 0\n",
    "        days = 0\n",
    "        knots = 0\n",
    "        detail = []\n",
    "        \n",
    "    return orig_name, dest_name, full_trip, orig_cost, freight_cost, dest_cost, mile, km, days, knots, detail"
   ]
  },
  {
   "cell_type": "code",
   "execution_count": 26,
   "metadata": {},
   "outputs": [
    {
     "data": {
      "text/plain": [
       "('N/A', 'N/A', [], 'N/A', 'N/A', 'N/A', 0, 0, 0, 0, [])"
      ]
     },
     "execution_count": 26,
     "metadata": {},
     "output_type": "execute_result"
    }
   ],
   "source": [
    "search_route('Leliu, China', 'Hakata, Japan', wait_time = 10)"
   ]
  },
  {
   "cell_type": "code",
   "execution_count": 27,
   "metadata": {},
   "outputs": [
    {
     "name": "stderr",
     "output_type": "stream",
     "text": [
      "100%|████████████████████████████████████████████████████████████████████████████████████| 6/6 [01:31<00:00, 15.31s/it]\n"
     ]
    }
   ],
   "source": [
    "# Run for loop to get rates\n",
    "lanes_df = pd.DataFrame()\n",
    "for i in tqdm(range(len(freight_lanes))):\n",
    "# for i in tqdm(range(1)):\n",
    "    orig_port = freight_lanes['ORIG_PORT'].iloc[i]\n",
    "    dest_port = freight_lanes['DEST_PORT'].iloc[i]\n",
    "    orig_name, dest_name, full_trip, orig_cost, freight_cost, dest_cost, mile, km, days, knots, detail = search_route(orig_port, dest_port)\n",
    "    \n",
    "    tmp_lanes_df = pd.DataFrame()\n",
    "    tmp_lanes_df['orig_name'] = [orig_name]\n",
    "    tmp_lanes_df['dest_name'] = dest_name\n",
    "    tmp_lanes_df['full_trip'] = str(full_trip)\n",
    "    tmp_lanes_df['orig_cost'] = orig_cost\n",
    "    tmp_lanes_df['freight_cost'] = freight_cost\n",
    "    tmp_lanes_df['dest_cost'] = dest_cost\n",
    "    tmp_lanes_df['mile'] = mile\n",
    "    tmp_lanes_df['km'] = km\n",
    "    tmp_lanes_df['days'] = days\n",
    "    tmp_lanes_df['max_knots'] = knots\n",
    "    tmp_lanes_df['detail'] = str(detail)\n",
    "    now = datetime.datetime.now()\n",
    "    now = now.strftime(\"%Y-%m-%d %H:%M\")\n",
    "    tmp_lanes_df['extraction_time'] = now\n",
    "    \n",
    "#     lanes_df = lanes_df.append(tmp_lanes_df)\n",
    "    tmp_lanes_df.to_sql('web_freight_rates', con=conn, index=False, if_exists='append')\n",
    "\n",
    "# lanes_df\n",
    "# lanes_df.to_csv('lanes_df.csv', index=False, encoding='utf_8')"
   ]
  },
  {
   "cell_type": "code",
   "execution_count": 28,
   "metadata": {},
   "outputs": [
    {
     "data": {
      "text/html": [
       "<div>\n",
       "<style scoped>\n",
       "    .dataframe tbody tr th:only-of-type {\n",
       "        vertical-align: middle;\n",
       "    }\n",
       "\n",
       "    .dataframe tbody tr th {\n",
       "        vertical-align: top;\n",
       "    }\n",
       "\n",
       "    .dataframe thead th {\n",
       "        text-align: right;\n",
       "    }\n",
       "</style>\n",
       "<table border=\"1\" class=\"dataframe\">\n",
       "  <thead>\n",
       "    <tr style=\"text-align: right;\">\n",
       "      <th></th>\n",
       "      <th>orig_name</th>\n",
       "      <th>dest_name</th>\n",
       "      <th>full_trip</th>\n",
       "      <th>orig_cost</th>\n",
       "      <th>freight_cost</th>\n",
       "      <th>dest_cost</th>\n",
       "      <th>mile</th>\n",
       "      <th>km</th>\n",
       "      <th>days</th>\n",
       "      <th>max_knots</th>\n",
       "      <th>detail</th>\n",
       "      <th>extraction_time</th>\n",
       "    </tr>\n",
       "  </thead>\n",
       "  <tbody>\n",
       "    <tr>\n",
       "      <th>0</th>\n",
       "      <td>N/A</td>\n",
       "      <td>N/A</td>\n",
       "      <td>[]</td>\n",
       "      <td>N/A</td>\n",
       "      <td>N/A</td>\n",
       "      <td>N/A</td>\n",
       "      <td>0</td>\n",
       "      <td>0</td>\n",
       "      <td>0</td>\n",
       "      <td>0</td>\n",
       "      <td>[]</td>\n",
       "      <td>2018-06-24 09:57</td>\n",
       "    </tr>\n",
       "    <tr>\n",
       "      <th>1</th>\n",
       "      <td>N/A</td>\n",
       "      <td>N/A</td>\n",
       "      <td>[]</td>\n",
       "      <td>N/A</td>\n",
       "      <td>N/A</td>\n",
       "      <td>N/A</td>\n",
       "      <td>0</td>\n",
       "      <td>0</td>\n",
       "      <td>0</td>\n",
       "      <td>0</td>\n",
       "      <td>[]</td>\n",
       "      <td>2018-06-24 09:57</td>\n",
       "    </tr>\n",
       "    <tr>\n",
       "      <th>2</th>\n",
       "      <td>N/A</td>\n",
       "      <td>N/A</td>\n",
       "      <td>[]</td>\n",
       "      <td>N/A</td>\n",
       "      <td>N/A</td>\n",
       "      <td>N/A</td>\n",
       "      <td>0</td>\n",
       "      <td>0</td>\n",
       "      <td>0</td>\n",
       "      <td>0</td>\n",
       "      <td>[]</td>\n",
       "      <td>2018-06-24 09:57</td>\n",
       "    </tr>\n",
       "    <tr>\n",
       "      <th>3</th>\n",
       "      <td>N/A</td>\n",
       "      <td>N/A</td>\n",
       "      <td>[]</td>\n",
       "      <td>N/A</td>\n",
       "      <td>N/A</td>\n",
       "      <td>N/A</td>\n",
       "      <td>0</td>\n",
       "      <td>0</td>\n",
       "      <td>0</td>\n",
       "      <td>0</td>\n",
       "      <td>[]</td>\n",
       "      <td>2018-06-24 09:57</td>\n",
       "    </tr>\n",
       "    <tr>\n",
       "      <th>4</th>\n",
       "      <td>N/A</td>\n",
       "      <td>N/A</td>\n",
       "      <td>[]</td>\n",
       "      <td>N/A</td>\n",
       "      <td>N/A</td>\n",
       "      <td>N/A</td>\n",
       "      <td>0</td>\n",
       "      <td>0</td>\n",
       "      <td>0</td>\n",
       "      <td>0</td>\n",
       "      <td>[]</td>\n",
       "      <td>2018-06-24 09:58</td>\n",
       "    </tr>\n",
       "    <tr>\n",
       "      <th>5</th>\n",
       "      <td>N/A</td>\n",
       "      <td>N/A</td>\n",
       "      <td>[]</td>\n",
       "      <td>N/A</td>\n",
       "      <td>N/A</td>\n",
       "      <td>N/A</td>\n",
       "      <td>0</td>\n",
       "      <td>0</td>\n",
       "      <td>0</td>\n",
       "      <td>0</td>\n",
       "      <td>[]</td>\n",
       "      <td>2018-06-24 09:58</td>\n",
       "    </tr>\n",
       "  </tbody>\n",
       "</table>\n",
       "</div>"
      ],
      "text/plain": [
       "  orig_name dest_name full_trip orig_cost freight_cost dest_cost  mile  km  \\\n",
       "0       N/A       N/A        []       N/A          N/A       N/A     0   0   \n",
       "1       N/A       N/A        []       N/A          N/A       N/A     0   0   \n",
       "2       N/A       N/A        []       N/A          N/A       N/A     0   0   \n",
       "3       N/A       N/A        []       N/A          N/A       N/A     0   0   \n",
       "4       N/A       N/A        []       N/A          N/A       N/A     0   0   \n",
       "5       N/A       N/A        []       N/A          N/A       N/A     0   0   \n",
       "\n",
       "   days  max_knots detail   extraction_time  \n",
       "0     0          0     []  2018-06-24 09:57  \n",
       "1     0          0     []  2018-06-24 09:57  \n",
       "2     0          0     []  2018-06-24 09:57  \n",
       "3     0          0     []  2018-06-24 09:57  \n",
       "4     0          0     []  2018-06-24 09:58  \n",
       "5     0          0     []  2018-06-24 09:58  "
      ]
     },
     "execution_count": 28,
     "metadata": {},
     "output_type": "execute_result"
    }
   ],
   "source": [
    "pd.read_sql('select * from web_freight_rates', con = conn)"
   ]
  },
  {
   "cell_type": "code",
   "execution_count": 18,
   "metadata": {},
   "outputs": [],
   "source": [
    "web_freight_rates = pd.read_sql('select * from web_freight_rates', con = conn)\n",
    "web_freight_rates.drop_duplicates(inplace=True)\n",
    "web_freight_rates.to_csv('lanes_time.csv', index=False, encoding='utf_8')"
   ]
  },
  {
   "cell_type": "code",
   "execution_count": 19,
   "metadata": {
    "collapsed": true
   },
   "outputs": [],
   "source": [
    "rate_site.close()"
   ]
  },
  {
   "cell_type": "code",
   "execution_count": 20,
   "metadata": {
    "collapsed": true
   },
   "outputs": [],
   "source": [
    "conn.close()"
   ]
  },
  {
   "cell_type": "code",
   "execution_count": null,
   "metadata": {
    "collapsed": true
   },
   "outputs": [],
   "source": []
  }
 ],
 "metadata": {
  "anaconda-cloud": {},
  "kernelspec": {
   "display_name": "Python 3",
   "language": "python",
   "name": "python3"
  },
  "language_info": {
   "codemirror_mode": {
    "name": "ipython",
    "version": 3
   },
   "file_extension": ".py",
   "mimetype": "text/x-python",
   "name": "python",
   "nbconvert_exporter": "python",
   "pygments_lexer": "ipython3",
   "version": "3.6.4"
  }
 },
 "nbformat": 4,
 "nbformat_minor": 1
}
