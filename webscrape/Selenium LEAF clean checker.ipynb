{
 "cells": [
  {
   "cell_type": "code",
   "execution_count": 1,
   "metadata": {},
   "outputs": [],
   "source": [
    "# load the library\n",
    "import numpy as np\n",
    "import pandas as pd\n",
    "from tqdm import tqdm\n",
    "import sqlite3\n",
    "\n",
    "# load selenium\n",
    "import selenium\n",
    "from selenium import webdriver\n",
    "from selenium.webdriver.common.keys import Keys\n",
    "import pyperclip\n",
    "from IPython.display import clear_output"
   ]
  },
  {
   "cell_type": "code",
   "execution_count": 2,
   "metadata": {},
   "outputs": [],
   "source": [
    "# load the library\n",
    "import requests\n",
    "import bs4\n",
    "from bs4 import BeautifulSoup\n",
    "import requests\n",
    "pd.set_option('max_colwidth',1000)"
   ]
  },
  {
   "cell_type": "code",
   "execution_count": 3,
   "metadata": {},
   "outputs": [],
   "source": [
    "import time\n",
    "# time.sleep(5) # delays for 5 seconds\n",
    "\n",
    "from sklearn.externals import joblib"
   ]
  },
  {
   "cell_type": "code",
   "execution_count": 8,
   "metadata": {},
   "outputs": [],
   "source": [
    "login_name = 'name'\n",
    "login_pass = 'pass'\n",
    "data_df = pd.DataFrame()\n",
    "db_name = \"address_list1\""
   ]
  },
  {
   "cell_type": "code",
   "execution_count": 9,
   "metadata": {},
   "outputs": [],
   "source": [
    "sqlite_db = db_name + '.sqlite'\n",
    "conn = sqlite3.connect(sqlite_db)\n",
    "c = conn.cursor()"
   ]
  },
  {
   "cell_type": "code",
   "execution_count": 10,
   "metadata": {},
   "outputs": [],
   "source": [
    "col_heading = ['Icon',\n",
    "'Client Reference No',\n",
    "'Order Source ID',\n",
    "'Original Address',\n",
    "'Principal',\n",
    "'Order Country',\n",
    "'Location Key',\n",
    "'Location Name',\n",
    "'Insert Date']"
   ]
  },
  {
   "cell_type": "code",
   "execution_count": 11,
   "metadata": {},
   "outputs": [],
   "source": [
    "# download chromedriver.exe and save to a local drive locaiton:\n",
    "# location_of_chromedriver = \"Driver/chromedriver.exe\"\n",
    "location_of_chromedriver = \"Driver/chromedriver old.exe\"\n",
    "leaf_url = \"https://leaf.lfuat.net/LocationManagement\""
   ]
  },
  {
   "cell_type": "code",
   "execution_count": 12,
   "metadata": {},
   "outputs": [],
   "source": [
    "# set browser and go to google maps\n",
    "def init_browser(URL = 'https://www.google.com.hk/maps'):\n",
    "    browser = webdriver.Chrome(location_of_chromedriver)\n",
    "    browser.get(URL)\n",
    "    return browser"
   ]
  },
  {
   "cell_type": "code",
   "execution_count": 13,
   "metadata": {},
   "outputs": [],
   "source": [
    "otm = init_browser(leaf_url)"
   ]
  },
  {
   "cell_type": "code",
   "execution_count": 14,
   "metadata": {},
   "outputs": [],
   "source": [
    "login = otm.find_elements_by_class_name('form-control')\n",
    "login[0].clear()\n",
    "login[0].send_keys(login_name)\n",
    "login[1].send_keys(login_pass)"
   ]
  },
  {
   "cell_type": "code",
   "execution_count": 15,
   "metadata": {},
   "outputs": [],
   "source": [
    "# find and press the login button\n",
    "btn = otm.find_elements_by_class_name('btn')\n",
    "for i in btn:\n",
    "    try:\n",
    "        if i.text == 'Login':\n",
    "            i.click()\n",
    "    except:\n",
    "        pass"
   ]
  },
  {
   "cell_type": "code",
   "execution_count": 16,
   "metadata": {},
   "outputs": [],
   "source": [
    "def get_tables(otm, row_no=9):\n",
    "    html = otm.page_source\n",
    "    data_df = pd.DataFrame()\n",
    "    \n",
    "    bs=BeautifulSoup(html, \"lxml\")\n",
    "    table_body=bs.find('tbody')\n",
    "    rows = table_body.find_all('tr')\n",
    "    tbl_result = []\n",
    "    for row in rows:\n",
    "        cols=row.find_all('td')\n",
    "        colstrip=[x.text.strip() for x in cols]\n",
    "    #     print(len(colstrip))\n",
    "        tbl_result.append(colstrip)\n",
    "    \n",
    "    get_lst = []\n",
    "    for i in tbl_result:\n",
    "        if len(i) == row_no:\n",
    "            get_lst.append(i)\n",
    "    \n",
    "    df_tmp = pd.DataFrame(get_lst)\n",
    "    \n",
    "    data_df = data_df.append(df_tmp)\n",
    "    \n",
    "    return data_df"
   ]
  },
  {
   "cell_type": "code",
   "execution_count": 17,
   "metadata": {},
   "outputs": [],
   "source": [
    "def go_to_next_page():\n",
    "    next_btn = otm.find_element_by_link_text('Next')\n",
    "    next_btn.click()"
   ]
  },
  {
   "cell_type": "code",
   "execution_count": 18,
   "metadata": {},
   "outputs": [],
   "source": [
    "def get_showing_txt():\n",
    "    showing = otm.find_element_by_id('datatable_info')\n",
    "    return showing.text"
   ]
  },
  {
   "cell_type": "code",
   "execution_count": 19,
   "metadata": {},
   "outputs": [],
   "source": [
    "def find_last_page():\n",
    "    page_buttons = otm.find_elements_by_class_name('paginate_button')\n",
    "    last_page = page_buttons[-2].text\n",
    "    return int(last_page)"
   ]
  },
  {
   "cell_type": "code",
   "execution_count": 16,
   "metadata": {},
   "outputs": [
    {
     "data": {
      "text/plain": [
       "10"
      ]
     },
     "execution_count": 16,
     "metadata": {},
     "output_type": "execute_result"
    }
   ],
   "source": [
    "find_last_page()"
   ]
  },
  {
   "cell_type": "code",
   "execution_count": 20,
   "metadata": {},
   "outputs": [],
   "source": [
    "def get_all_addresses(set_steps=1000):\n",
    "    address_df = pd.DataFrame()\n",
    "    address_mapping_df = pd.DataFrame()\n",
    "    \n",
    "    last_page = find_last_page()\n",
    "    running_int = np.min([set_steps, int(last_page)])\n",
    "    for i in range(running_int):\n",
    "        orig_txt = get_showing_txt()\n",
    "        address_tmp = get_tables(otm, 9)\n",
    "        address_tmp.columns = col_heading\n",
    "        address_df = address_df.append(address_tmp)\n",
    "        address_tmp.to_sql('address_list', con=conn, index=False,if_exists='append')\n",
    "        \n",
    "        \n",
    "        for j in range(len(address_tmp)):\n",
    "            # get plus buttons (again)\n",
    "            loc_key = address_tmp.iloc[j]['Location Key']\n",
    "            plus_btns = otm.find_elements_by_class_name('glyphicon')\n",
    "            plus_btns = plus_btns[4:]\n",
    "            \n",
    "            # expand item\n",
    "            plus_btns[j].click()\n",
    "            address_map_tmp = get_tables(otm, 13)\n",
    "            address_map_tmp['Source Loc'] = loc_key\n",
    "            \n",
    "            address_mapping_df = address_mapping_df.append(address_map_tmp)\n",
    "            address_map_tmp.to_sql('address_map',con=conn,index=False,if_exists='append')\n",
    "            \n",
    "        new_txt = orig_txt\n",
    "\n",
    "        go_to_next_page()\n",
    "\n",
    "        time.sleep(1)\n",
    "\n",
    "        counter = 0\n",
    "        while new_txt == orig_txt and counter < 10:\n",
    "            try:\n",
    "                new_txt = get_showing_txt()\n",
    "                counter = counter + 1\n",
    "                time.sleep(5)\n",
    "            except:\n",
    "                time.sleep(5)\n",
    "    address_df.columns = col_heading\n",
    "    return address_df, address_mapping_df"
   ]
  },
  {
   "cell_type": "code",
   "execution_count": 22,
   "metadata": {},
   "outputs": [],
   "source": [
    "# address_df = pd.read_sql('select * from address_list', con = conn)\n",
    "# address_mapping_df = pd.read_sql('select * from address_map', con = conn)"
   ]
  },
  {
   "cell_type": "code",
   "execution_count": null,
   "metadata": {},
   "outputs": [],
   "source": []
  },
  {
   "cell_type": "code",
   "execution_count": null,
   "metadata": {},
   "outputs": [],
   "source": []
  },
  {
   "cell_type": "code",
   "execution_count": null,
   "metadata": {},
   "outputs": [],
   "source": []
  },
  {
   "cell_type": "code",
   "execution_count": null,
   "metadata": {},
   "outputs": [],
   "source": []
  },
  {
   "cell_type": "code",
   "execution_count": 21,
   "metadata": {},
   "outputs": [
    {
     "name": "stderr",
     "output_type": "stream",
     "text": [
      "C:\\Users\\bryantlee\\AppData\\Local\\Continuum\\anaconda3\\lib\\site-packages\\pandas\\core\\generic.py:1534: UserWarning: The spaces in these column names will not be changed. In pandas versions < 0.14, spaces were converted to underscores.\n",
      "  chunksize=chunksize, dtype=dtype)\n"
     ]
    }
   ],
   "source": [
    "address_df, address_mapping_df = get_all_addresses(1)\n",
    "# address_df.to_excel('page_loc_table1.xlsx', index=False)\n",
    "# address_mapping_df.to_excel('page_loc_mapping1.xlsx', index=False)"
   ]
  },
  {
   "cell_type": "code",
   "execution_count": null,
   "metadata": {
    "collapsed": true
   },
   "outputs": [],
   "source": [
    "address_df.to_excel('page_loc_table1.xlsx', index=False)\n",
    "address_mapping_df.to_excel('page_loc_mapping1.xlsx', index=False)"
   ]
  },
  {
   "cell_type": "markdown",
   "metadata": {},
   "source": [
    "### Automation starts here"
   ]
  },
  {
   "cell_type": "code",
   "execution_count": 20,
   "metadata": {
    "collapsed": true
   },
   "outputs": [],
   "source": [
    "loc_lookup = pd.read_excel('Lookup.xlsx')"
   ]
  },
  {
   "cell_type": "code",
   "execution_count": 21,
   "metadata": {
    "collapsed": true
   },
   "outputs": [],
   "source": [
    "plus_btns = otm.find_elements_by_class_name('glyphicon-plus-sign')"
   ]
  },
  {
   "cell_type": "code",
   "execution_count": 33,
   "metadata": {
    "collapsed": true
   },
   "outputs": [],
   "source": [
    "loc_next = otm.find_elements_by_class_name('fancybox-media')\n",
    "loc_next\n",
    "keep = []\n",
    "for i in loc_next:\n",
    "    if i.text == 'Next':\n",
    "        keep.append(i)\n",
    "loc_next = keep\n"
   ]
  },
  {
   "cell_type": "code",
   "execution_count": 35,
   "metadata": {
    "collapsed": true
   },
   "outputs": [],
   "source": [
    "loc_next[-1].click()"
   ]
  },
  {
   "cell_type": "code",
   "execution_count": null,
   "metadata": {
    "collapsed": true
   },
   "outputs": [],
   "source": []
  },
  {
   "cell_type": "code",
   "execution_count": 22,
   "metadata": {
    "collapsed": true
   },
   "outputs": [],
   "source": [
    "def find_and_click_next(apply_loc=-1):\n",
    "    loc_next = otm.find_elements_by_class_name('fancybox-media')\n",
    "    loc_next\n",
    "    keep = []\n",
    "    for i in loc_next:\n",
    "        if i.text == 'Next':\n",
    "            keep.append(i)\n",
    "    loc_next = keep\n",
    "    loc_next[apply_loc].click()"
   ]
  },
  {
   "cell_type": "code",
   "execution_count": 23,
   "metadata": {
    "collapsed": true
   },
   "outputs": [],
   "source": [
    "def close_iframe():\n",
    "    otm.switch_to_default_content()\n",
    "    close_btn = otm.find_elements_by_tag_name('a')\n",
    "    keep = ''\n",
    "    for i in close_btn:\n",
    "        if i.get_attribute('title') == 'Close':\n",
    "            keep = i\n",
    "        close_btn = keep\n",
    "    close_btn.click()"
   ]
  },
  {
   "cell_type": "code",
   "execution_count": 24,
   "metadata": {
    "collapsed": true
   },
   "outputs": [],
   "source": [
    "def click_ok_button():\n",
    "    otm.switch_to_default_content()\n",
    "    otm.switch_to_frame(otm.find_element_by_tag_name(\"iframe\"))\n",
    "    successful_btn = otm.find_elements_by_class_name('ng-binding')\n",
    "    keep = []\n",
    "    for i in successful_btn:\n",
    "        if i.text == 'OK' or i.text == 'GOT IT':\n",
    "            keep = i\n",
    "    successful_btn = keep\n",
    "    successful_btn.click()"
   ]
  },
  {
   "cell_type": "code",
   "execution_count": 25,
   "metadata": {
    "collapsed": true
   },
   "outputs": [],
   "source": [
    "def keep_trying(function_loop = click_ok_button, max_run=10):\n",
    "    counter = 0\n",
    "    found_it = False\n",
    "    while found_it == False and counter < max_run:\n",
    "        try:\n",
    "            function_loop()\n",
    "            found_it = True\n",
    "        except:\n",
    "            time.sleep(2)\n",
    "        counter = counter + 1"
   ]
  },
  {
   "cell_type": "code",
   "execution_count": 26,
   "metadata": {
    "collapsed": true
   },
   "outputs": [],
   "source": [
    "def click_submit_button():\n",
    "    otm.switch_to_default_content()\n",
    "    otm.switch_to_frame(otm.find_element_by_tag_name(\"iframe\"))\n",
    "    submit_btn = otm.find_elements_by_tag_name('button')\n",
    "    if submit_btn[0].text == 'SUBMIT':\n",
    "        iframe_ok = True\n",
    "        print('clicked')\n",
    "        # click the submit button\n",
    "        submit_btn[0].click()"
   ]
  },
  {
   "cell_type": "code",
   "execution_count": 27,
   "metadata": {
    "collapsed": true
   },
   "outputs": [],
   "source": [
    "def map_location_id(loc_key):\n",
    "    # map the location ID to base locations, if available\n",
    "    if loc_key in list(loc_lookup['OTM_LOCATION_ID']):\n",
    "        tmp = loc_lookup[loc_lookup['OTM_LOCATION_ID'] == loc_key]\n",
    "        map_loc_key = list(tmp['Base_LOCATION_MAPPING'])[0]\n",
    "    else:\n",
    "        map_loc_key = ''\n",
    "    \n",
    "    print(loc_key)\n",
    "    print(map_loc_key)\n",
    "    return map_loc_key"
   ]
  },
  {
   "cell_type": "code",
   "execution_count": 30,
   "metadata": {
    "collapsed": true
   },
   "outputs": [],
   "source": [
    "def clean_page(fix_chosen=False, clean_count = 1000):\n",
    "    \n",
    "    try:\n",
    "        i_counter_df = pd.read_csv('i_counter.csv')\n",
    "        i_counter = i_counter_df['count'].iloc[0]\n",
    "    except:\n",
    "        i_counter=0    \n",
    "\n",
    "    current_page_df = get_tables(otm, row_no=9)\n",
    "    current_page_df.columns=col_heading\n",
    "    get_opt_list = []\n",
    "    get_map_list = []\n",
    "    for i in range(min(len(current_page_df),clean_count)):\n",
    "        if i >= i_counter:\n",
    "            print(i)\n",
    "\n",
    "            # try to find the minus button and click it\n",
    "            try:\n",
    "                minus_btn = otm.find_element_by_class_name('glyphicon-minus-sign')\n",
    "                minus_btn.click()\n",
    "            except:\n",
    "                pass\n",
    "\n",
    "            # get plus buttons (again)\n",
    "            plus_btns = otm.find_elements_by_class_name('glyphicon')\n",
    "            plus_btns = plus_btns[4:]\n",
    "\n",
    "            # map the location ID to base locations, if available\n",
    "            loc_key = current_page_df.iloc[i]['Location Key']\n",
    "\n",
    "            if loc_key in list(loc_lookup['OTM_LOCATION_ID']):\n",
    "                tmp = loc_lookup[loc_lookup['OTM_LOCATION_ID'] == loc_key]\n",
    "                map_loc_key = list(tmp['Base_LOCATION_MAPPING'])[0]\n",
    "            else:\n",
    "                map_loc_key = ''\n",
    "            print(loc_key)\n",
    "            print(map_loc_key)\n",
    "\n",
    "\n",
    "\n",
    "            # if location key was valid, perform mapping\n",
    "            if map_loc_key != \"\":\n",
    "\n",
    "                # expand item\n",
    "                plus_btns[i].click()\n",
    "\n",
    "                # check the item is expanded\n",
    "                print('expand list')\n",
    "                expanded = False\n",
    "                counter = 0\n",
    "                while expanded == False and counter < 10:\n",
    "                    time.sleep(1)\n",
    "                    try:\n",
    "                        tms_drop_down = otm.find_elements_by_class_name('form-control')\n",
    "                        expanded = True\n",
    "                    except:\n",
    "                        time.sleep(2)\n",
    "                    counter = counter + 1\n",
    "\n",
    "                # get status\n",
    "                open_df = get_tables(otm, 13)\n",
    "                get_option = False\n",
    "                get_mapping = False\n",
    "                try:\n",
    "                    opt_lst = list(open_df[open_df[11] == map_loc_key].index)\n",
    "\n",
    "                    loc_check = open_df[[\"LOC\" in i for i in list(open_df[11]) ]]\n",
    "                    if len(loc_check) > 0:\n",
    "                        get_option = True\n",
    "                    chosen = np.min(opt_lst)\n",
    "                    if len(opt_lst) > 0:\n",
    "                        get_mapping = True\n",
    "                except:\n",
    "                    chosen = -1\n",
    "\n",
    "#                 if fix_chosen:\n",
    "#                     chosen = -1\n",
    "\n",
    "                get_opt_list.append(get_option)\n",
    "                get_map_list.append(get_mapping)\n",
    "\n",
    "\n",
    "\n",
    "                if chosen != -1 or fix_chosen==True:\n",
    "\n",
    "                    if get_mapping == False:\n",
    "                        # send the location key to text box\n",
    "                        time.sleep(1)\n",
    "                        tms_drop_down = otm.find_elements_by_class_name('form-control')\n",
    "                        tms_drop_down[0].send_keys('TMS')\n",
    "\n",
    "                        location_id_value = otm.find_element_by_id('locationID_value')\n",
    "                        location_id_value.clear()\n",
    "                        location_id_value.send_keys(map_loc_key)\n",
    "\n",
    "                        # press down button\n",
    "                        time.sleep(3)\n",
    "                        location_id_value.send_keys(Keys.DOWN)\n",
    "\n",
    "                        # press enter\n",
    "                        time.sleep(0.5)\n",
    "                        location_id_value.send_keys(Keys.RETURN)\n",
    "\n",
    "                    # click next button\n",
    "                    print('click next')\n",
    "\n",
    "                    time.sleep(1)\n",
    "                    print(chosen)\n",
    "                    find_and_click_next(chosen)\n",
    "\n",
    "                    # check the iframe is up and submit\n",
    "                    print('submit')\n",
    "                    time.sleep(6)\n",
    "                    keep_trying(click_submit_button)\n",
    "\n",
    "                    time.sleep(1)\n",
    "                    print('click ok')\n",
    "                    # click ok\n",
    "                    keep_trying(click_ok_button)\n",
    "\n",
    "                    time.sleep(1)\n",
    "                    print('close iframe')\n",
    "                    # close iframe\n",
    "                    keep_trying(close_iframe,1)\n",
    "\n",
    "                    time.sleep(1)\n",
    "\n",
    "                # minimize the expanded cell\n",
    "                try:\n",
    "                    minus_btn = otm.find_element_by_class_name('glyphicon-minus-sign')\n",
    "                    minus_btn.click()\n",
    "                except:\n",
    "                    pass\n",
    "\n",
    "        clear_output()\n",
    "        i_counter = i\n",
    "        i_counter_df = pd.DataFrame()\n",
    "        i_counter_df['count'] = [i_counter]\n",
    "#         i_counter_df.to_csv('i_counter.csv',index=False)        \n",
    "\n",
    "    #     print(get_opt_list)\n",
    "    #     print(get_map_list)\n",
    "    return get_opt_list, get_map_list        \n",
    "            "
   ]
  },
  {
   "cell_type": "code",
   "execution_count": 31,
   "metadata": {
    "scrolled": true
   },
   "outputs": [
    {
     "name": "stdout",
     "output_type": "stream",
     "text": [
      "0\n",
      "0424LOC0034\n",
      "0424LOC1852\n",
      "expand list\n",
      "click next\n",
      "-1\n",
      "submit\n",
      "click ok\n"
     ]
    },
    {
     "ename": "KeyboardInterrupt",
     "evalue": "",
     "output_type": "error",
     "traceback": [
      "\u001b[1;31m---------------------------------------------------------------------------\u001b[0m",
      "\u001b[1;31mNoSuchElementException\u001b[0m                    Traceback (most recent call last)",
      "\u001b[1;32m<ipython-input-25-1b892176188d>\u001b[0m in \u001b[0;36mkeep_trying\u001b[1;34m(function_loop, max_run)\u001b[0m\n\u001b[0;32m      5\u001b[0m         \u001b[1;32mtry\u001b[0m\u001b[1;33m:\u001b[0m\u001b[1;33m\u001b[0m\u001b[0m\n\u001b[1;32m----> 6\u001b[1;33m             \u001b[0mfunction_loop\u001b[0m\u001b[1;33m(\u001b[0m\u001b[1;33m)\u001b[0m\u001b[1;33m\u001b[0m\u001b[0m\n\u001b[0m\u001b[0;32m      7\u001b[0m             \u001b[0mfound_it\u001b[0m \u001b[1;33m=\u001b[0m \u001b[1;32mTrue\u001b[0m\u001b[1;33m\u001b[0m\u001b[0m\n",
      "\u001b[1;32m<ipython-input-24-64770be02835>\u001b[0m in \u001b[0;36mclick_ok_button\u001b[1;34m()\u001b[0m\n\u001b[0;32m      2\u001b[0m     \u001b[0motm\u001b[0m\u001b[1;33m.\u001b[0m\u001b[0mswitch_to_default_content\u001b[0m\u001b[1;33m(\u001b[0m\u001b[1;33m)\u001b[0m\u001b[1;33m\u001b[0m\u001b[0m\n\u001b[1;32m----> 3\u001b[1;33m     \u001b[0motm\u001b[0m\u001b[1;33m.\u001b[0m\u001b[0mswitch_to_frame\u001b[0m\u001b[1;33m(\u001b[0m\u001b[0motm\u001b[0m\u001b[1;33m.\u001b[0m\u001b[0mfind_element_by_tag_name\u001b[0m\u001b[1;33m(\u001b[0m\u001b[1;34m\"iframe\"\u001b[0m\u001b[1;33m)\u001b[0m\u001b[1;33m)\u001b[0m\u001b[1;33m\u001b[0m\u001b[0m\n\u001b[0m\u001b[0;32m      4\u001b[0m     \u001b[0msuccessful_btn\u001b[0m \u001b[1;33m=\u001b[0m \u001b[0motm\u001b[0m\u001b[1;33m.\u001b[0m\u001b[0mfind_elements_by_class_name\u001b[0m\u001b[1;33m(\u001b[0m\u001b[1;34m'ng-binding'\u001b[0m\u001b[1;33m)\u001b[0m\u001b[1;33m\u001b[0m\u001b[0m\n",
      "\u001b[1;32m~\\AppData\\Local\\Continuum\\anaconda3\\lib\\site-packages\\selenium-3.8.1-py3.6.egg\\selenium\\webdriver\\remote\\webdriver.py\u001b[0m in \u001b[0;36mfind_element_by_tag_name\u001b[1;34m(self, name)\u001b[0m\n\u001b[0;32m    520\u001b[0m         \"\"\"\n\u001b[1;32m--> 521\u001b[1;33m         \u001b[1;32mreturn\u001b[0m \u001b[0mself\u001b[0m\u001b[1;33m.\u001b[0m\u001b[0mfind_element\u001b[0m\u001b[1;33m(\u001b[0m\u001b[0mby\u001b[0m\u001b[1;33m=\u001b[0m\u001b[0mBy\u001b[0m\u001b[1;33m.\u001b[0m\u001b[0mTAG_NAME\u001b[0m\u001b[1;33m,\u001b[0m \u001b[0mvalue\u001b[0m\u001b[1;33m=\u001b[0m\u001b[0mname\u001b[0m\u001b[1;33m)\u001b[0m\u001b[1;33m\u001b[0m\u001b[0m\n\u001b[0m\u001b[0;32m    522\u001b[0m \u001b[1;33m\u001b[0m\u001b[0m\n",
      "\u001b[1;32m~\\AppData\\Local\\Continuum\\anaconda3\\lib\\site-packages\\selenium-3.8.1-py3.6.egg\\selenium\\webdriver\\remote\\webdriver.py\u001b[0m in \u001b[0;36mfind_element\u001b[1;34m(self, by, value)\u001b[0m\n\u001b[0;32m    954\u001b[0m             \u001b[1;34m'using'\u001b[0m\u001b[1;33m:\u001b[0m \u001b[0mby\u001b[0m\u001b[1;33m,\u001b[0m\u001b[1;33m\u001b[0m\u001b[0m\n\u001b[1;32m--> 955\u001b[1;33m             'value': value})['value']\n\u001b[0m\u001b[0;32m    956\u001b[0m \u001b[1;33m\u001b[0m\u001b[0m\n",
      "\u001b[1;32m~\\AppData\\Local\\Continuum\\anaconda3\\lib\\site-packages\\selenium-3.8.1-py3.6.egg\\selenium\\webdriver\\remote\\webdriver.py\u001b[0m in \u001b[0;36mexecute\u001b[1;34m(self, driver_command, params)\u001b[0m\n\u001b[0;32m    311\u001b[0m         \u001b[1;32mif\u001b[0m \u001b[0mresponse\u001b[0m\u001b[1;33m:\u001b[0m\u001b[1;33m\u001b[0m\u001b[0m\n\u001b[1;32m--> 312\u001b[1;33m             \u001b[0mself\u001b[0m\u001b[1;33m.\u001b[0m\u001b[0merror_handler\u001b[0m\u001b[1;33m.\u001b[0m\u001b[0mcheck_response\u001b[0m\u001b[1;33m(\u001b[0m\u001b[0mresponse\u001b[0m\u001b[1;33m)\u001b[0m\u001b[1;33m\u001b[0m\u001b[0m\n\u001b[0m\u001b[0;32m    313\u001b[0m             response['value'] = self._unwrap_value(\n",
      "\u001b[1;32m~\\AppData\\Local\\Continuum\\anaconda3\\lib\\site-packages\\selenium-3.8.1-py3.6.egg\\selenium\\webdriver\\remote\\errorhandler.py\u001b[0m in \u001b[0;36mcheck_response\u001b[1;34m(self, response)\u001b[0m\n\u001b[0;32m    236\u001b[0m             \u001b[1;32mraise\u001b[0m \u001b[0mexception_class\u001b[0m\u001b[1;33m(\u001b[0m\u001b[0mmessage\u001b[0m\u001b[1;33m,\u001b[0m \u001b[0mscreen\u001b[0m\u001b[1;33m,\u001b[0m \u001b[0mstacktrace\u001b[0m\u001b[1;33m,\u001b[0m \u001b[0mvalue\u001b[0m\u001b[1;33m[\u001b[0m\u001b[1;34m'alert'\u001b[0m\u001b[1;33m]\u001b[0m\u001b[1;33m.\u001b[0m\u001b[0mget\u001b[0m\u001b[1;33m(\u001b[0m\u001b[1;34m'text'\u001b[0m\u001b[1;33m)\u001b[0m\u001b[1;33m)\u001b[0m\u001b[1;33m\u001b[0m\u001b[0m\n\u001b[1;32m--> 237\u001b[1;33m         \u001b[1;32mraise\u001b[0m \u001b[0mexception_class\u001b[0m\u001b[1;33m(\u001b[0m\u001b[0mmessage\u001b[0m\u001b[1;33m,\u001b[0m \u001b[0mscreen\u001b[0m\u001b[1;33m,\u001b[0m \u001b[0mstacktrace\u001b[0m\u001b[1;33m)\u001b[0m\u001b[1;33m\u001b[0m\u001b[0m\n\u001b[0m\u001b[0;32m    238\u001b[0m \u001b[1;33m\u001b[0m\u001b[0m\n",
      "\u001b[1;31mNoSuchElementException\u001b[0m: Message: no such element: Unable to locate element: {\"method\":\"tag name\",\"selector\":\"iframe\"}\n  (Session info: chrome=66.0.3359.139)\n  (Driver info: chromedriver=2.37.544315 (730aa6a5fdba159ac9f4c1e8cbc59bf1b5ce12b7),platform=Windows NT 6.3.9600 x86_64)\n",
      "\nDuring handling of the above exception, another exception occurred:\n",
      "\u001b[1;31mKeyboardInterrupt\u001b[0m                         Traceback (most recent call last)",
      "\u001b[1;32m<ipython-input-31-4950fcbc2935>\u001b[0m in \u001b[0;36m<module>\u001b[1;34m()\u001b[0m\n\u001b[1;32m----> 1\u001b[1;33m \u001b[0moption_status\u001b[0m\u001b[1;33m,\u001b[0m \u001b[0mmapping_status\u001b[0m \u001b[1;33m=\u001b[0m \u001b[0mclean_page\u001b[0m\u001b[1;33m(\u001b[0m\u001b[0mfix_chosen\u001b[0m\u001b[1;33m=\u001b[0m\u001b[1;32mTrue\u001b[0m\u001b[1;33m)\u001b[0m\u001b[1;33m\u001b[0m\u001b[0m\n\u001b[0m",
      "\u001b[1;32m<ipython-input-30-121b1c34a514>\u001b[0m in \u001b[0;36mclean_page\u001b[1;34m(fix_chosen, clean_count)\u001b[0m\n\u001b[0;32m    117\u001b[0m                     \u001b[0mprint\u001b[0m\u001b[1;33m(\u001b[0m\u001b[1;34m'click ok'\u001b[0m\u001b[1;33m)\u001b[0m\u001b[1;33m\u001b[0m\u001b[0m\n\u001b[0;32m    118\u001b[0m                     \u001b[1;31m# click ok\u001b[0m\u001b[1;33m\u001b[0m\u001b[1;33m\u001b[0m\u001b[0m\n\u001b[1;32m--> 119\u001b[1;33m                     \u001b[0mkeep_trying\u001b[0m\u001b[1;33m(\u001b[0m\u001b[0mclick_ok_button\u001b[0m\u001b[1;33m)\u001b[0m\u001b[1;33m\u001b[0m\u001b[0m\n\u001b[0m\u001b[0;32m    120\u001b[0m \u001b[1;33m\u001b[0m\u001b[0m\n\u001b[0;32m    121\u001b[0m                     \u001b[0mtime\u001b[0m\u001b[1;33m.\u001b[0m\u001b[0msleep\u001b[0m\u001b[1;33m(\u001b[0m\u001b[1;36m1\u001b[0m\u001b[1;33m)\u001b[0m\u001b[1;33m\u001b[0m\u001b[0m\n",
      "\u001b[1;32m<ipython-input-25-1b892176188d>\u001b[0m in \u001b[0;36mkeep_trying\u001b[1;34m(function_loop, max_run)\u001b[0m\n\u001b[0;32m      7\u001b[0m             \u001b[0mfound_it\u001b[0m \u001b[1;33m=\u001b[0m \u001b[1;32mTrue\u001b[0m\u001b[1;33m\u001b[0m\u001b[0m\n\u001b[0;32m      8\u001b[0m         \u001b[1;32mexcept\u001b[0m\u001b[1;33m:\u001b[0m\u001b[1;33m\u001b[0m\u001b[0m\n\u001b[1;32m----> 9\u001b[1;33m             \u001b[0mtime\u001b[0m\u001b[1;33m.\u001b[0m\u001b[0msleep\u001b[0m\u001b[1;33m(\u001b[0m\u001b[1;36m2\u001b[0m\u001b[1;33m)\u001b[0m\u001b[1;33m\u001b[0m\u001b[0m\n\u001b[0m\u001b[0;32m     10\u001b[0m         \u001b[0mcounter\u001b[0m \u001b[1;33m=\u001b[0m \u001b[0mcounter\u001b[0m \u001b[1;33m+\u001b[0m \u001b[1;36m1\u001b[0m\u001b[1;33m\u001b[0m\u001b[0m\n",
      "\u001b[1;31mKeyboardInterrupt\u001b[0m: "
     ]
    }
   ],
   "source": [
    "option_status, mapping_status = clean_page(fix_chosen=False)"
   ]
  },
  {
   "cell_type": "code",
   "execution_count": null,
   "metadata": {
    "collapsed": true
   },
   "outputs": [],
   "source": []
  },
  {
   "cell_type": "code",
   "execution_count": null,
   "metadata": {
    "collapsed": true
   },
   "outputs": [],
   "source": []
  },
  {
   "cell_type": "code",
   "execution_count": null,
   "metadata": {
    "collapsed": true
   },
   "outputs": [],
   "source": []
  },
  {
   "cell_type": "code",
   "execution_count": 34,
   "metadata": {
    "collapsed": true
   },
   "outputs": [],
   "source": [
    "current_btn = otm.find_element_by_class_name('current')"
   ]
  },
  {
   "cell_type": "code",
   "execution_count": 35,
   "metadata": {},
   "outputs": [
    {
     "data": {
      "text/plain": [
       "'1'"
      ]
     },
     "execution_count": 35,
     "metadata": {},
     "output_type": "execute_result"
    }
   ],
   "source": [
    "current_btn.text"
   ]
  },
  {
   "cell_type": "code",
   "execution_count": 36,
   "metadata": {
    "collapsed": true,
    "scrolled": false
   },
   "outputs": [],
   "source": [
    "def page_clean(fix_chosen):\n",
    "        \n",
    "    page_buttons = otm.find_elements_by_class_name('paginate_button')\n",
    "    last_page = page_buttons[-2].text\n",
    "    print(last_page)\n",
    "\n",
    "    current_btn = otm.find_element_by_class_name('current')\n",
    "    current_no = int(current_btn.text)\n",
    "    last_no = int(last_page)\n",
    "\n",
    "    page_flip = last_no - current_no + 1\n",
    "\n",
    "    address_df = pd.DataFrame()\n",
    "    for i in range(page_flip):\n",
    "        print('Cleaning {} page of {} pages'.format(str(current_no), last_page))\n",
    "        orig_txt = get_showing_txt()\n",
    "        option_status, mapping_status = clean_page(fix_chosen=fix_chosen)\n",
    "\n",
    "        time.sleep(2)\n",
    "\n",
    "        go_to_next_page()\n",
    "\n",
    "        counter = 0\n",
    "        time.sleep(5)\n",
    "        new_txt = \"\"\n",
    "        while new_txt == orig_txt and counter < 10:\n",
    "            try:\n",
    "                new_txt = get_showing_txt()\n",
    "                counter = counter + 1\n",
    "            except:\n",
    "                time.sleep(5)"
   ]
  },
  {
   "cell_type": "code",
   "execution_count": 40,
   "metadata": {},
   "outputs": [
    {
     "name": "stdout",
     "output_type": "stream",
     "text": [
      "8\n",
      "0424LOC0751\n",
      "0424LOC2548\n"
     ]
    }
   ],
   "source": [
    "ending_status = False\n",
    "\n",
    "while ending_status == False:\n",
    "\n",
    "    try:\n",
    "        page_clean(fix_chosen=False)\n",
    "    except:\n",
    "        time.sleep(10)\n",
    "        \n",
    "    current_btn = otm.find_element_by_class_name('current')\n",
    "    if int(current_btn.text) >= find_last_page():\n",
    "        ending_status = True"
   ]
  },
  {
   "cell_type": "code",
   "execution_count": null,
   "metadata": {
    "collapsed": true
   },
   "outputs": [],
   "source": [
    "page_clean(fix_chosen=False)"
   ]
  },
  {
   "cell_type": "code",
   "execution_count": 40,
   "metadata": {
    "collapsed": true
   },
   "outputs": [],
   "source": [
    "otm.close()"
   ]
  },
  {
   "cell_type": "code",
   "execution_count": null,
   "metadata": {
    "collapsed": true
   },
   "outputs": [],
   "source": []
  }
 ],
 "metadata": {
  "anaconda-cloud": {},
  "kernelspec": {
   "display_name": "Python 3",
   "language": "python",
   "name": "python3"
  },
  "language_info": {
   "codemirror_mode": {
    "name": "ipython",
    "version": 3
   },
   "file_extension": ".py",
   "mimetype": "text/x-python",
   "name": "python",
   "nbconvert_exporter": "python",
   "pygments_lexer": "ipython3",
   "version": "3.6.4"
  }
 },
 "nbformat": 4,
 "nbformat_minor": 1
}
